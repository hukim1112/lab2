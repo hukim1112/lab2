{
 "cells": [
  {
   "cell_type": "code",
   "execution_count": 127,
   "metadata": {},
   "outputs": [],
   "source": [
    "import tensorflow as tf\n",
    "from datasets.reader import mnist as mnist_reader\n",
    "slim = tf.contrib.slim\n",
    "layers = tf.contrib.layers\n",
    "from tensorflow.python.ops import variable_scope\n",
    "import numpy as np\n",
    "from matplotlib import pyplot as plt\n",
    "import losses_fn"
   ]
  },
  {
   "cell_type": "markdown",
   "metadata": {},
   "source": [
    "# Data Creation"
   ]
  },
  {
   "cell_type": "code",
   "execution_count": 222,
   "metadata": {},
   "outputs": [
    {
     "name": "stdout",
     "output_type": "stream",
     "text": [
      "(100, 2)\n",
      "[[ 67.13945276 182.56894457]\n",
      " [ 77.97160723 162.70283421]\n",
      " [ 68.87415659 173.10752217]\n",
      " [ 63.52948698 173.90650717]\n",
      " [ 72.36990384 178.60970449]]\n"
     ]
    }
   ],
   "source": [
    "adult_height = np.random.normal(175, 5, [100, 1])\n",
    "adult_weight = np.random.normal(70, 5, [100, 1])\n",
    "\n",
    "adult_dataset = np.concatenate( (adult_weight, adult_height) , axis = 1)\n",
    "\n",
    "print(adult_dataset.shape)\n",
    "print(adult_dataset[:5])"
   ]
  },
  {
   "cell_type": "code",
   "execution_count": 223,
   "metadata": {},
   "outputs": [
    {
     "name": "stdout",
     "output_type": "stream",
     "text": [
      "(100, 2)\n",
      "[[ 30.92141607 122.30509984]\n",
      " [ 30.54986745 117.53703143]\n",
      " [ 37.9577814  112.68783018]\n",
      " [ 26.85666261 117.93250045]\n",
      " [ 32.15394377 121.49455382]]\n"
     ]
    }
   ],
   "source": [
    "child_height = np.random.normal(120, 5, [100, 1])\n",
    "child_weight = np.random.normal(30, 5, [100, 1])\n",
    "\n",
    "child_dataset = np.concatenate( (child_weight, child_height) , axis = 1)\n",
    "\n",
    "print(child_dataset.shape)\n",
    "print(child_dataset[:5])"
   ]
  },
  {
   "cell_type": "code",
   "execution_count": 224,
   "metadata": {},
   "outputs": [
    {
     "data": {
      "image/png": "[encoded data removed]",
      "text/plain": [
       "<Figure size 432x288 with 1 Axes>"
      ]
     },
     "metadata": {},
     "output_type": "display_data"
    }
   ],
   "source": [
    "fig = plt.figure()\n",
    "ax1 = fig.add_subplot(111)\n",
    "ax1.scatter(adult_dataset[:,0], adult_dataset[:,1])\n",
    "ax1.scatter(child_dataset[:,0], child_dataset[:,1])\n",
    "plt.show()"
   ]
  },
  {
   "cell_type": "markdown",
   "metadata": {},
   "source": [
    "# Labels"
   ]
  },
  {
   "cell_type": "code",
   "execution_count": 225,
   "metadata": {},
   "outputs": [
    {
     "name": "stdout",
     "output_type": "stream",
     "text": [
      "label의 shape (200, 1)\n",
      "[[1.]\n",
      " [1.]\n",
      " [1.]\n",
      " [1.]\n",
      " [1.]\n",
      " [1.]\n",
      " [1.]\n",
      " [1.]\n",
      " [1.]\n",
      " [1.]]\n"
     ]
    }
   ],
   "source": [
    "adult_label = np.ones( shape=[100, 1] )\n",
    "child_label = np.zeros( shape=[100, 1] )\n",
    "label = np.concatenate( (adult_label, child_label) )\n",
    "print('label의 shape' , label.shape)\n",
    "print(label[:10])"
   ]
  },
  {
   "cell_type": "markdown",
   "metadata": {},
   "source": [
    "# Dataset + Label"
   ]
  },
  {
   "cell_type": "code",
   "execution_count": 226,
   "metadata": {},
   "outputs": [
    {
     "name": "stdout",
     "output_type": "stream",
     "text": [
      "[[ 26.85666261 117.93250045   0.        ]\n",
      " [ 57.25149576 171.73794652   1.        ]\n",
      " [ 77.97160723 162.70283421   1.        ]\n",
      " [ 30.92141607 122.30509984   0.        ]\n",
      " [ 33.89116251 118.2736045    0.        ]\n",
      " [ 32.90228579 119.48898476   0.        ]\n",
      " [ 74.80744991 175.35438557   1.        ]\n",
      " [ 65.9902036  166.61597522   1.        ]\n",
      " [ 32.42635036 120.38364304   0.        ]\n",
      " [ 73.6736766  178.03989291   1.        ]]\n",
      "(200, 3)\n"
     ]
    }
   ],
   "source": [
    "total_dataset = np.concatenate((adult_dataset , child_dataset))\n",
    "total_dataset = np.concatenate( (total_dataset, label), axis = 1  )\n",
    "\n",
    "np.random.shuffle(total_dataset) # Shuffle dataset\n",
    "print(total_dataset[:10])\n",
    "print(total_dataset.shape)"
   ]
  },
  {
   "cell_type": "markdown",
   "metadata": {},
   "source": [
    "# simple scaling of dataset"
   ]
  },
  {
   "cell_type": "code",
   "execution_count": 227,
   "metadata": {},
   "outputs": [],
   "source": [
    "weight_mean= total_dataset[:, 0].mean()\n",
    "height_mean= total_dataset[:, 1].mean()\n",
    "total_dataset[:, 0] /= weight_mean\n",
    "total_dataset[:, 1] /= height_mean"
   ]
  },
  {
   "cell_type": "code",
   "execution_count": 228,
   "metadata": {},
   "outputs": [
    {
     "data": {
      "image/png": "[encoded data removed]",
      "text/plain": [
       "<Figure size 432x288 with 1 Axes>"
      ]
     },
     "metadata": {},
     "output_type": "display_data"
    }
   ],
   "source": [
    "total_dataset.shape\n",
    "\n",
    "fig = plt.figure()\n",
    "ax1 = fig.add_subplot(111)\n",
    "ax1.scatter(total_dataset[:,0], total_dataset[:,1])\n",
    "plt.show()"
   ]
  },
  {
   "cell_type": "code",
   "execution_count": 229,
   "metadata": {},
   "outputs": [],
   "source": [
    "def logistic_regressor(data):\n",
    "    logits = layers.fully_connected(data, 1, activation_fn=None) # logits = W1 * x1 + W2 * x2 + b\n",
    "    prob = tf.nn.sigmoid(logits)\n",
    "    return logits, prob"
   ]
  },
  {
   "cell_type": "code",
   "execution_count": 230,
   "metadata": {},
   "outputs": [
    {
     "name": "stdout",
     "output_type": "stream",
     "text": [
      "iteration :  0 loss :  0.8719314\n",
      "iteration :  100 loss :  0.5905758\n",
      "iteration :  200 loss :  0.488152\n",
      "iteration :  300 loss :  0.39998707\n",
      "iteration :  400 loss :  0.32939786\n",
      "iteration :  500 loss :  0.27402318\n",
      "iteration :  600 loss :  0.23061964\n",
      "iteration :  700 loss :  0.1963379\n",
      "iteration :  800 loss :  0.16895634\n",
      "iteration :  900 loss :  0.14681536\n",
      "iteration :  1000 loss :  0.12869093\n",
      "iteration :  1100 loss :  0.11367996\n",
      "iteration :  1200 loss :  0.10111171\n",
      "iteration :  1300 loss :  0.09048294\n",
      "iteration :  1400 loss :  0.08141188\n",
      "iteration :  1500 loss :  0.07360561\n",
      "iteration :  1600 loss :  0.06683659\n",
      "iteration :  1700 loss :  0.060926404\n",
      "iteration :  1800 loss :  0.05573344\n",
      "iteration :  1900 loss :  0.051144324\n",
      "iteration :  2000 loss :  0.04706746\n",
      "iteration :  2100 loss :  0.043428093\n",
      "iteration :  2200 loss :  0.040164825\n",
      "iteration :  2300 loss :  0.037226852\n",
      "iteration :  2400 loss :  0.034571707\n",
      "iteration :  2500 loss :  0.032163795\n",
      "iteration :  2600 loss :  0.029973028\n",
      "iteration :  2700 loss :  0.027973857\n",
      "iteration :  2800 loss :  0.026144402\n",
      "iteration :  2900 loss :  0.02446595\n",
      "iteration :  3000 loss :  0.022922305\n",
      "iteration :  3100 loss :  0.02149942\n",
      "iteration :  3200 loss :  0.020185119\n",
      "iteration :  3300 loss :  0.018968696\n",
      "iteration :  3400 loss :  0.0178408\n",
      "iteration :  3500 loss :  0.016793167\n",
      "iteration :  3600 loss :  0.015818516\n",
      "iteration :  3700 loss :  0.0149103645\n",
      "iteration :  3800 loss :  0.014062989\n",
      "iteration :  3900 loss :  0.013271248\n",
      "iteration :  4000 loss :  0.012530551\n",
      "iteration :  4100 loss :  0.01183677\n",
      "iteration :  4200 loss :  0.011186205\n",
      "iteration :  4300 loss :  0.010575524\n",
      "iteration :  4400 loss :  0.010001703\n",
      "iteration :  4500 loss :  0.009462008\n",
      "iteration :  4600 loss :  0.008953953\n",
      "iteration :  4700 loss :  0.008475275\n",
      "iteration :  4800 loss :  0.00802393\n",
      "iteration :  4900 loss :  0.0075980346\n",
      "iteration :  5000 loss :  0.007195851\n",
      "iteration :  5100 loss :  0.006815815\n",
      "iteration :  5200 loss :  0.0064564776\n",
      "iteration :  5300 loss :  0.0061164876\n",
      "iteration :  5400 loss :  0.005794653\n",
      "iteration :  5500 loss :  0.0054898057\n",
      "iteration :  5600 loss :  0.005200912\n",
      "dis_weight [[12.926406 ]\n",
      " [ 4.7752256]]\n",
      "dis_bias [-17.62246]\n"
     ]
    }
   ],
   "source": [
    "with tf.Graph().as_default():\n",
    "    real_data = tf.constant(total_dataset[:, :2], tf.float32)\n",
    "    label = tf.constant(total_dataset[:, 2], tf.float32)\n",
    "    label = tf.reshape(label, [-1, 1])\n",
    "    with variable_scope.variable_scope('logistic_regressor') as dis_scope:\n",
    "        logits, prob = logistic_regressor(real_data)    \n",
    "    \n",
    "    loss1 = -tf.multiply(label,tf.log(prob + 0.0006)) # -P(x)*log(Q(x))\n",
    "    loss2 = -tf.multiply( 1.-label, tf.log(1. - prob + 0.0006) ) # -(1-P(x))log(1-Q(x))\n",
    "    loss = loss1 + loss2 # -P(x)*log(Q(x)) -(1-P(x))log(1-Q(x))\n",
    "    D_loss = tf.reduce_mean(loss)\n",
    "    \n",
    "    initializer = tf.global_variables_initializer()\n",
    "    \n",
    "    dis_var = tf.get_collection(tf.GraphKeys.TRAINABLE_VARIABLES, scope=dis_scope.name)\n",
    "    D_solver = tf.train.AdamOptimizer(learning_rate=0.01).minimize(D_loss, var_list=dis_var)\n",
    "    initializer = tf.global_variables_initializer()\n",
    "    with tf.Session() as sess:\n",
    "        sess.run(initializer)\n",
    "\n",
    "        for i in range(10000):\n",
    "            loss, _ = sess.run([D_loss, D_solver])\n",
    "            if i % 100 == 0:\n",
    "                print('iteration : ', i, 'loss : ', loss)\n",
    "            if loss < 0.005:\n",
    "                break\n",
    "    \n",
    "        with variable_scope.variable_scope('logistic_regressor', reuse=True):\n",
    "            weight1 = tf.get_variable('fully_connected/weights')\n",
    "            bias2 = tf.get_variable('fully_connected/biases')\n",
    "            w = sess.run(weight1)\n",
    "            b = sess.run(bias2)\n",
    "            print('dis_weight', w)\n",
    "            print('dis_bias', b)\n",
    "            \n",
    "            # w[0]*x1 + w[1]*x2 + b = 0\n",
    "            # p1 = (0, -b/w[1])\n",
    "            # p2 = (-b/w[0], 0)\n",
    "            \n",
    "            p1 = (0, -b/w[1])\n",
    "            p2 = (-b/w[0], 0)\n",
    "\n",
    "    "
   ]
  },
  {
   "cell_type": "code",
   "execution_count": 233,
   "metadata": {},
   "outputs": [
    {
     "name": "stdout",
     "output_type": "stream",
     "text": [
      "(0, array([3.690393], dtype=float32)) (array([1.3632915], dtype=float32), 0)\n"
     ]
    }
   ],
   "source": [
    "print(p1, p2)"
   ]
  },
  {
   "cell_type": "code",
   "execution_count": 236,
   "metadata": {},
   "outputs": [
    {
     "data": {
      "image/png": "[encoded data removed]",
      "text/plain": [
       "<Figure size 432x288 with 1 Axes>"
      ]
     },
     "metadata": {},
     "output_type": "display_data"
    }
   ],
   "source": [
    "fig = plt.figure()\n",
    "ax1 = fig.add_subplot(111)\n",
    "ax1.scatter(total_dataset[:,0], total_dataset[:,1])\n",
    "\n",
    "coefficients = np.polyfit([p1[0], p2[0]], [p1[1], p2[1]], 1) \n",
    "polynomial = np.poly1d(coefficients)\n",
    "x_axis = np.linspace(0, 2)\n",
    "y_axis = polynomial(x_axis)\n",
    "\n",
    "ax1.plot(x_axis, y_axis)\n",
    "\n",
    "plt.show()\n"
   ]
  },
  {
   "cell_type": "code",
   "execution_count": null,
   "metadata": {},
   "outputs": [],
   "source": []
  },
  {
   "cell_type": "markdown",
   "metadata": {},
   "source": [
    "# Multi-class linear classifier"
   ]
  },
  {
   "cell_type": "markdown",
   "metadata": {},
   "source": [
    "# Data creation"
   ]
  },
  {
   "cell_type": "code",
   "execution_count": 257,
   "metadata": {},
   "outputs": [
    {
     "name": "stdout",
     "output_type": "stream",
     "text": [
      "(100, 2)\n",
      "[[ 34.05816047 184.14797869]\n",
      " [ 32.42219901 178.62191271]\n",
      " [ 25.56032158 180.34669964]\n",
      " [ 36.75863022 177.40042951]\n",
      " [ 31.22619113 167.0560575 ]]\n"
     ]
    }
   ],
   "source": [
    "new_height = np.random.normal(175, 5, [100, 1])\n",
    "new_weight = np.random.normal(30, 5, [100, 1])\n",
    "\n",
    "new_class_dataset = np.concatenate( (new_weight, new_height) , axis = 1)\n",
    "\n",
    "print(new_class_dataset.shape)\n",
    "print(new_class_dataset[:5])"
   ]
  },
  {
   "cell_type": "code",
   "execution_count": 258,
   "metadata": {},
   "outputs": [
    {
     "data": {
      "image/png": "[encoded data removed]",
      "text/plain": [
       "<Figure size 432x288 with 1 Axes>"
      ]
     },
     "metadata": {},
     "output_type": "display_data"
    }
   ],
   "source": [
    "fig = plt.figure()\n",
    "ax1 = fig.add_subplot(111)\n",
    "ax1.scatter(adult_dataset[:,0], adult_dataset[:,1])\n",
    "ax1.scatter(child_dataset[:,0], child_dataset[:,1])\n",
    "ax1.scatter(new_class_dataset[:, 0], new_class_dataset[:, 1])\n",
    "plt.show()"
   ]
  },
  {
   "cell_type": "markdown",
   "metadata": {},
   "source": [
    "# Data combining"
   ]
  },
  {
   "cell_type": "code",
   "execution_count": 262,
   "metadata": {},
   "outputs": [
    {
     "name": "stdout",
     "output_type": "stream",
     "text": [
      "[[ 24.39602788 170.25626356   2.        ]\n",
      " [ 77.99593104 178.4193865    1.        ]\n",
      " [ 71.17699293 177.98648741   1.        ]\n",
      " [ 25.8359173  172.00112468   2.        ]\n",
      " [ 75.34069275 175.30835059   1.        ]\n",
      " [ 23.44204163 119.47160727   0.        ]\n",
      " [ 28.51798747 123.421143     0.        ]\n",
      " [ 59.3446345  172.34694348   1.        ]\n",
      " [ 72.14551441 178.43110979   1.        ]\n",
      " [ 40.40547715 118.35899898   0.        ]]\n",
      "(300, 3)\n"
     ]
    }
   ],
   "source": [
    "total_dataset = np.concatenate((adult_dataset , child_dataset, new_class_dataset))\n",
    "label = np.concatenate( (adult_label, child_label, np.ones( shape=[100, 1] )*2 ) )\n",
    "                                   \n",
    "total_dataset = np.concatenate( (total_dataset, label), axis = 1  )\n",
    "\n",
    "np.random.shuffle(total_dataset) # Shuffle dataset\n",
    "print(total_dataset[:10])\n",
    "print(total_dataset.shape)"
   ]
  },
  {
   "cell_type": "markdown",
   "metadata": {},
   "source": [
    "# Data scaling"
   ]
  },
  {
   "cell_type": "code",
   "execution_count": 263,
   "metadata": {},
   "outputs": [],
   "source": [
    "weight_mean = total_dataset[:, 0].mean()\n",
    "height_mean = total_dataset[:, 1].mean()\n",
    "total_dataset[:, 0] -=weight_mean\n",
    "total_dataset[:, 0] /=weight_mean\n",
    "total_dataset[:, 1]-=(height_mean/3)\n",
    "total_dataset[:, 1]/=(height_mean/3)"
   ]
  },
  {
   "cell_type": "code",
   "execution_count": 264,
   "metadata": {},
   "outputs": [
    {
     "data": {
      "image/png": "[encoded data removed]",
      "text/plain": [
       "<Figure size 432x288 with 1 Axes>"
      ]
     },
     "metadata": {},
     "output_type": "display_data"
    }
   ],
   "source": [
    "total_dataset.shape\n",
    "\n",
    "fig = plt.figure()\n",
    "ax1 = fig.add_subplot(111)\n",
    "ax1.scatter(total_dataset[:,0], total_dataset[:,1])\n",
    "plt.show()"
   ]
  },
  {
   "cell_type": "code",
   "execution_count": 265,
   "metadata": {},
   "outputs": [],
   "source": [
    "def classifier(data, num_class):\n",
    "    logits = layers.fully_connected(data, 3, activation_fn=None) # logits = W1 * x1 + W2 * x2 + b\n",
    "    #prob = tf.nn.sigmoid(logits)\n",
    "    return logits #scores"
   ]
  },
  {
   "cell_type": "code",
   "execution_count": 278,
   "metadata": {},
   "outputs": [
    {
     "name": "stdout",
     "output_type": "stream",
     "text": [
      "iteration :  0 loss :  2.376941\n",
      "iteration :  1000 loss :  0.85707176\n",
      "iteration :  2000 loss :  0.5809834\n",
      "iteration :  3000 loss :  0.40689707\n",
      "iteration :  4000 loss :  0.28796533\n",
      "iteration :  5000 loss :  0.20390657\n",
      "iteration :  6000 loss :  0.14441799\n",
      "iteration :  7000 loss :  0.1025413\n",
      "iteration :  8000 loss :  0.07311276\n",
      "iteration :  9000 loss :  0.05238205\n",
      "iteration :  10000 loss :  0.03771293\n",
      "iteration :  11000 loss :  0.0272778\n",
      "iteration :  12000 loss :  0.019815544\n",
      "iteration :  13000 loss :  0.014453137\n",
      "iteration :  14000 loss :  0.01058181\n",
      "iteration :  15000 loss :  0.0077750236\n",
      "iteration :  16000 loss :  0.005732054\n",
      "iteration :  17000 loss :  0.0042395815\n",
      "iteration :  18000 loss :  0.0031453602\n",
      "iteration :  19000 loss :  0.0023404192\n",
      "iteration :  20000 loss :  0.0017463466\n",
      "iteration :  21000 loss :  0.0013065728\n",
      "iteration :  22000 loss :  0.0009800434\n",
      "iteration :  23000 loss :  0.00073691964\n",
      "iteration :  24000 loss :  0.0005553848\n",
      "Label\n",
      "\n",
      "[[2.]\n",
      " [1.]\n",
      " [1.]\n",
      " [2.]\n",
      " [1.]\n",
      " [0.]\n",
      " [0.]\n",
      " [1.]\n",
      " [1.]\n",
      " [0.]]\n",
      "probability\n",
      "\n",
      "[[5.47875999e-04 3.81667093e-07 9.99451697e-01]\n",
      " [3.17993651e-13 9.99999881e-01 7.66990027e-08]\n",
      " [2.70209601e-11 9.99995708e-01 4.25477583e-06]\n",
      " [2.94109457e-04 7.74347996e-07 9.99705136e-01]\n",
      " [3.59965963e-12 9.99999762e-01 2.85177379e-07]\n",
      " [9.99861002e-01 2.27360086e-09 1.39028387e-04]\n",
      " [9.99386191e-01 1.46442332e-07 6.13628479e-04]\n",
      " [1.90919138e-07 9.97026742e-01 2.97302962e-03]\n",
      " [1.31304126e-11 9.99997497e-01 2.48499077e-06]\n",
      " [9.99716222e-01 8.53015736e-05 1.98436348e-04]]\n"
     ]
    }
   ],
   "source": [
    "with tf.Graph().as_default():\n",
    "    real_data = tf.constant(total_dataset[:, :2], tf.float32)\n",
    "    label = tf.constant(total_dataset[:, 2], tf.float32)\n",
    "    label = tf.reshape(label, [-1, 1])\n",
    "    with variable_scope.variable_scope('classifier') as dis_scope:\n",
    "        logits = classifier(real_data, num_class = 3)    \n",
    "    \n",
    "    onehot_encoded = tf.one_hot( tf.cast(label, tf.uint8) , depth = 3 )\n",
    "    \n",
    "    loss = tf.nn.softmax_cross_entropy_with_logits(labels = onehot_encoded, logits = logits)\n",
    "    D_loss = tf.reduce_mean(loss)\n",
    "\n",
    "    dis_var = tf.get_collection(tf.GraphKeys.TRAINABLE_VARIABLES, scope=dis_scope.name)\n",
    "    #학습할 variable을 scope로 지정해서 아래 optimizer에서 scope 내의 variable만 update할 수 있다.\n",
    "    D_solver = tf.train.AdamOptimizer(learning_rate=0.001).minimize(D_loss, var_list=dis_var) \n",
    "    \n",
    "    initializer = tf.global_variables_initializer()\n",
    "    with tf.Session() as sess:\n",
    "        sess.run(initializer)\n",
    "\n",
    "        for i in range(50000):\n",
    "            loss, _ = sess.run([D_loss, D_solver])\n",
    "            if i % 1000 == 0:\n",
    "                print('iteration : ', i, 'loss : ', loss)\n",
    "            if loss < 0.0005:\n",
    "                break\n",
    "        print(\"\\n\")\n",
    "        print(\"Label : \\n\")\n",
    "        print(sess.run(label[:10]))\n",
    "        print(\"probability : \\n\")\n",
    "        print(sess.run(tf.nn.softmax(logits)[:10]))"
   ]
  },
  {
   "cell_type": "code",
   "execution_count": null,
   "metadata": {},
   "outputs": [],
   "source": []
  }
 ],
 "metadata": {
  "kernelspec": {
   "display_name": "Python 3",
   "language": "python",
   "name": "python3"
  },
  "language_info": {
   "codemirror_mode": {
    "name": "ipython",
    "version": 3
   },
   "file_extension": ".py",
   "mimetype": "text/x-python",
   "name": "python",
   "nbconvert_exporter": "python",
   "pygments_lexer": "ipython3",
   "version": "3.6.5"
  }
 },
 "nbformat": 4,
 "nbformat_minor": 2
}
