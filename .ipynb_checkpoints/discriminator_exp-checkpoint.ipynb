{
 "cells": [
  {
   "cell_type": "code",
   "execution_count": 1,
   "metadata": {},
   "outputs": [],
   "source": [
    "import tensorflow as tf\n",
    "from datasets.reader import mnist as mnist_reader\n",
    "slim = tf.contrib.slim\n",
    "layers = tf.contrib.layers\n",
    "from tensorflow.python.ops import variable_scope\n",
    "import numpy as np\n",
    "from matplotlib import pyplot as plt"
   ]
  },
  {
   "cell_type": "code",
   "execution_count": 2,
   "metadata": {},
   "outputs": [],
   "source": [
    "noise2 = np.random.normal(0, 1, [100, 1])\n",
    "noise1 = np.random.normal(0, 1, [100, 1])"
   ]
  },
  {
   "cell_type": "code",
   "execution_count": 9,
   "metadata": {},
   "outputs": [
    {
     "data": {
      "image/png": "[encoded data removed]",
      "text/plain": [
       "<Figure size 432x288 with 1 Axes>"
      ]
     },
     "metadata": {},
     "output_type": "display_data"
    }
   ],
   "source": [
    "real_data_direction = np.array([[1, 1]])\n",
    "real_data = np.multiply(noise1, real_data_direction)\n",
    "\n",
    "fake_data_direction = np.array(np.random.normal(0, 1, [1, 2]))\n",
    "bias = -4\n",
    "fake_data = np.multiply(noise2, fake_data_direction) + bias\n",
    "\n",
    "real_data.shape\n",
    "fig = plt.figure()\n",
    "ax1 = fig.add_subplot(111)\n",
    "ax1.scatter(real_data[:, 0], real_data[:, 1], c = 'r')\n",
    "ax1.scatter(fake_data[:, 0], fake_data[:, 1], c = 'b')\n",
    "plt.show()"
   ]
  },
  {
   "cell_type": "code",
   "execution_count": 10,
   "metadata": {},
   "outputs": [
    {
     "name": "stdout",
     "output_type": "stream",
     "text": [
      "label의 shape (200, 1)\n",
      "[[1.]\n",
      " [1.]\n",
      " [1.]\n",
      " [1.]\n",
      " [1.]\n",
      " [1.]\n",
      " [1.]\n",
      " [1.]\n",
      " [1.]\n",
      " [1.]]\n"
     ]
    }
   ],
   "source": [
    "real_label = np.ones( shape=[100, 1] )\n",
    "fake_label = np.zeros( shape=[100, 1] )\n",
    "label = np.concatenate( (adult_label, child_label) )\n",
    "print('label의 shape' , label.shape)\n",
    "print(label[:10])"
   ]
  },
  {
   "cell_type": "code",
   "execution_count": 12,
   "metadata": {},
   "outputs": [
    {
     "name": "stdout",
     "output_type": "stream",
     "text": [
      "[[-0.01483547 -0.01483547  1.        ]\n",
      " [ 0.0975066   0.0975066   1.        ]\n",
      " [ 0.45608407  0.45608407  1.        ]\n",
      " [ 0.62564982  0.62564982  1.        ]\n",
      " [-0.22959851 -1.77762172  0.        ]\n",
      " [-3.89158613 -3.93609789  0.        ]\n",
      " [-4.40180101 -4.23683256  0.        ]\n",
      " [-3.14959481 -3.4987478   0.        ]\n",
      " [-1.88415447 -1.88415447  1.        ]\n",
      " [-5.48149127 -4.87323168  0.        ]]\n",
      "(200, 3)\n"
     ]
    }
   ],
   "source": [
    "total_dataset = np.concatenate((real_data , fake_data))\n",
    "total_dataset = np.concatenate( (total_dataset, label), axis = 1  )\n",
    "\n",
    "np.random.shuffle(total_dataset) # Shuffle dataset\n",
    "print(total_dataset[:10])\n",
    "print(total_dataset.shape)"
   ]
  },
  {
   "cell_type": "code",
   "execution_count": 13,
   "metadata": {},
   "outputs": [
    {
     "data": {
      "image/png": "[encoded data removed]",
      "text/plain": [
       "<Figure size 432x288 with 1 Axes>"
      ]
     },
     "metadata": {},
     "output_type": "display_data"
    }
   ],
   "source": [
    "total_dataset.shape\n",
    "\n",
    "fig = plt.figure()\n",
    "ax1 = fig.add_subplot(111)\n",
    "ax1.scatter(total_dataset[:,0], total_dataset[:,1])\n",
    "plt.show()"
   ]
  },
  {
   "cell_type": "code",
   "execution_count": null,
   "metadata": {},
   "outputs": [],
   "source": []
  },
  {
   "cell_type": "code",
   "execution_count": 14,
   "metadata": {},
   "outputs": [],
   "source": [
    "def logistic_regressor(data):\n",
    "    logits = layers.fully_connected(data, 1, activation_fn=None) # logits = W1 * x1 + W2 * x2 + b\n",
    "    prob = tf.nn.sigmoid(logits)\n",
    "    return logits, prob"
   ]
  },
  {
   "cell_type": "code",
   "execution_count": 15,
   "metadata": {},
   "outputs": [
    {
     "name": "stdout",
     "output_type": "stream",
     "text": [
      "iteration :  0 loss :  1.3058708\n",
      "iteration :  100 loss :  0.34003186\n",
      "iteration :  200 loss :  0.23131406\n",
      "iteration :  300 loss :  0.18454127\n",
      "iteration :  400 loss :  0.15899302\n",
      "iteration :  500 loss :  0.14292587\n",
      "iteration :  600 loss :  0.13179198\n",
      "iteration :  700 loss :  0.123494454\n",
      "iteration :  800 loss :  0.11694523\n",
      "iteration :  900 loss :  0.111529626\n",
      "iteration :  1000 loss :  0.10687777\n",
      "iteration :  1100 loss :  0.102756135\n",
      "iteration :  1200 loss :  0.09901213\n",
      "iteration :  1300 loss :  0.09554338\n",
      "iteration :  1400 loss :  0.09228026\n",
      "iteration :  1500 loss :  0.08917508\n",
      "iteration :  1600 loss :  0.08619538\n",
      "iteration :  1700 loss :  0.0833196\n",
      "iteration :  1800 loss :  0.08053389\n",
      "iteration :  1900 loss :  0.0778301\n",
      "iteration :  2000 loss :  0.07520424\n",
      "iteration :  2100 loss :  0.072655\n",
      "iteration :  2200 loss :  0.0701831\n",
      "iteration :  2300 loss :  0.06779029\n",
      "iteration :  2400 loss :  0.06547886\n",
      "iteration :  2500 loss :  0.063251056\n",
      "iteration :  2600 loss :  0.061108757\n",
      "iteration :  2700 loss :  0.059053205\n",
      "iteration :  2800 loss :  0.05708485\n",
      "iteration :  2900 loss :  0.05520333\n",
      "iteration :  3000 loss :  0.05340752\n",
      "iteration :  3100 loss :  0.05169554\n",
      "iteration :  3200 loss :  0.050064977\n",
      "iteration :  3300 loss :  0.04851289\n",
      "iteration :  3400 loss :  0.047035996\n",
      "iteration :  3500 loss :  0.04563081\n",
      "iteration :  3600 loss :  0.04429369\n",
      "iteration :  3700 loss :  0.043020964\n",
      "iteration :  3800 loss :  0.041808993\n",
      "iteration :  3900 loss :  0.040654134\n",
      "iteration :  4000 loss :  0.039552953\n",
      "iteration :  4100 loss :  0.03850204\n",
      "iteration :  4200 loss :  0.037498206\n",
      "iteration :  4300 loss :  0.036538374\n",
      "iteration :  4400 loss :  0.035619654\n",
      "iteration :  4500 loss :  0.034739327\n",
      "iteration :  4600 loss :  0.033894774\n",
      "iteration :  4700 loss :  0.03308359\n",
      "iteration :  4800 loss :  0.03230352\n",
      "iteration :  4900 loss :  0.031552445\n",
      "iteration :  5000 loss :  0.030828407\n",
      "iteration :  5100 loss :  0.03012953\n",
      "iteration :  5200 loss :  0.02945415\n",
      "iteration :  5300 loss :  0.028800668\n",
      "iteration :  5400 loss :  0.028167617\n",
      "iteration :  5500 loss :  0.027553646\n",
      "iteration :  5600 loss :  0.02695753\n",
      "iteration :  5700 loss :  0.026378129\n",
      "iteration :  5800 loss :  0.0258144\n",
      "iteration :  5900 loss :  0.025265371\n",
      "iteration :  6000 loss :  0.024730232\n",
      "iteration :  6100 loss :  0.02420813\n",
      "iteration :  6200 loss :  0.023698412\n",
      "iteration :  6300 loss :  0.023200398\n",
      "iteration :  6400 loss :  0.02271356\n",
      "iteration :  6500 loss :  0.022237338\n",
      "iteration :  6600 loss :  0.021771306\n",
      "iteration :  6700 loss :  0.021315027\n",
      "iteration :  6800 loss :  0.02086816\n",
      "iteration :  6900 loss :  0.020430367\n",
      "iteration :  7000 loss :  0.02000134\n",
      "iteration :  7100 loss :  0.01958084\n",
      "iteration :  7200 loss :  0.019168597\n",
      "iteration :  7300 loss :  0.018764399\n",
      "iteration :  7400 loss :  0.01836804\n",
      "iteration :  7500 loss :  0.017979318\n",
      "iteration :  7600 loss :  0.017598063\n",
      "iteration :  7700 loss :  0.017224053\n",
      "iteration :  7800 loss :  0.016857132\n",
      "iteration :  7900 loss :  0.016497111\n",
      "iteration :  8000 loss :  0.016143776\n",
      "iteration :  8100 loss :  0.01579695\n",
      "iteration :  8200 loss :  0.015456439\n",
      "iteration :  8300 loss :  0.015122037\n",
      "iteration :  8400 loss :  0.0147934975\n",
      "iteration :  8500 loss :  0.014470616\n",
      "iteration :  8600 loss :  0.01415318\n",
      "iteration :  8700 loss :  0.013840905\n",
      "iteration :  8800 loss :  0.013533589\n",
      "iteration :  8900 loss :  0.013230957\n",
      "iteration :  9000 loss :  0.012932765\n",
      "iteration :  9100 loss :  0.012638757\n",
      "iteration :  9200 loss :  0.012348685\n",
      "iteration :  9300 loss :  0.012062276\n",
      "iteration :  9400 loss :  0.011779309\n",
      "iteration :  9500 loss :  0.011499553\n",
      "iteration :  9600 loss :  0.011222738\n",
      "iteration :  9700 loss :  0.010948684\n",
      "iteration :  9800 loss :  0.010677166\n",
      "iteration :  9900 loss :  0.010408023\n",
      "dis_weight [[-9.243646]\n",
      " [16.094362]]\n",
      "dis_bias [22.476248]\n"
     ]
    }
   ],
   "source": [
    "with tf.Graph().as_default():\n",
    "    real_data = tf.constant(total_dataset[:, :2], tf.float32)\n",
    "    label = tf.constant(total_dataset[:, 2], tf.float32)\n",
    "    label = tf.reshape(label, [-1, 1])\n",
    "    with variable_scope.variable_scope('logistic_regressor') as dis_scope:\n",
    "        logits, prob = logistic_regressor(real_data)    \n",
    "    \n",
    "    loss1 = -tf.multiply(label,tf.log(prob + 0.0006)) # -P(x)*log(Q(x))\n",
    "    loss2 = -tf.multiply( 1.-label, tf.log(1. - prob + 0.0006) ) # -(1-P(x))log(1-Q(x))\n",
    "    loss = loss1 + loss2 # -P(x)*log(Q(x)) -(1-P(x))log(1-Q(x))\n",
    "    D_loss = tf.reduce_mean(loss)\n",
    "    \n",
    "    initializer = tf.global_variables_initializer()\n",
    "    \n",
    "    dis_var = tf.get_collection(tf.GraphKeys.TRAINABLE_VARIABLES, scope=dis_scope.name)\n",
    "    D_solver = tf.train.AdamOptimizer(learning_rate=0.01).minimize(D_loss, var_list=dis_var)\n",
    "    initializer = tf.global_variables_initializer()\n",
    "    with tf.Session() as sess:\n",
    "        sess.run(initializer)\n",
    "\n",
    "        for i in range(10000):\n",
    "            loss, _ = sess.run([D_loss, D_solver])\n",
    "            if i % 100 == 0:\n",
    "                print('iteration : ', i, 'loss : ', loss)\n",
    "            if loss < 0.005:\n",
    "                break\n",
    "    \n",
    "        with variable_scope.variable_scope('logistic_regressor', reuse=True):\n",
    "            weight1 = tf.get_variable('fully_connected/weights')\n",
    "            bias2 = tf.get_variable('fully_connected/biases')\n",
    "            w = sess.run(weight1)\n",
    "            b = sess.run(bias2)\n",
    "            print('dis_weight', w)\n",
    "            print('dis_bias', b)\n",
    "            \n",
    "            # w[0]*x1 + w[1]*x2 + b = 0\n",
    "            # p1 = (0, -b/w[1])\n",
    "            # p2 = (-b/w[0], 0)\n",
    "            \n",
    "            p1 = (0, -b/w[1])\n",
    "            p2 = (-b/w[0], 0)\n",
    "\n",
    "    "
   ]
  },
  {
   "cell_type": "code",
   "execution_count": null,
   "metadata": {},
   "outputs": [],
   "source": [
    "print(p1, p2)"
   ]
  },
  {
   "cell_type": "code",
   "execution_count": 18,
   "metadata": {},
   "outputs": [
    {
     "data": {
      "image/png": "[encoded data removed]",
      "text/plain": [
       "<Figure size 432x288 with 1 Axes>"
      ]
     },
     "metadata": {},
     "output_type": "display_data"
    }
   ],
   "source": [
    "fig = plt.figure()\n",
    "ax1 = fig.add_subplot(111)\n",
    "color = [(1*i, 1, 0) for i in total_dataset[:, 2]]\n",
    "ax1.scatter(total_dataset[:,0], total_dataset[:,1], c = color)\n",
    "\n",
    "coefficients = np.polyfit([p1[0], p2[0]], [p1[1], p2[1]], 1) \n",
    "polynomial = np.poly1d(coefficients)\n",
    "x_axis = np.linspace(-8, 3)\n",
    "y_axis = polynomial(x_axis)\n",
    "\n",
    "ax1.plot(x_axis, y_axis, c='g')\n",
    "\n",
    "plt.show()\n"
   ]
  },
  {
   "cell_type": "code",
   "execution_count": null,
   "metadata": {},
   "outputs": [],
   "source": []
  }
 ],
 "metadata": {
  "kernelspec": {
   "display_name": "tf1.6p3",
   "language": "python",
   "name": "tf1.6p3"
  },
  "language_info": {
   "codemirror_mode": {
    "name": "ipython",
    "version": 3
   },
   "file_extension": ".py",
   "mimetype": "text/x-python",
   "name": "python",
   "nbconvert_exporter": "python",
   "pygments_lexer": "ipython3",
   "version": "3.5.2"
  }
 },
 "nbformat": 4,
 "nbformat_minor": 2
}
