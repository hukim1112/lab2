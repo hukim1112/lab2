{
 "cells": [
  {
   "cell_type": "code",
   "execution_count": 1,
   "metadata": {},
   "outputs": [],
   "source": [
    "import tensorflow as tf\n",
    "from datasets.reader import mnist as mnist_reader\n",
    "slim = tf.contrib.slim\n",
    "layers = tf.contrib.layers\n",
    "from tensorflow.python.ops import variable_scope\n",
    "import numpy as np\n",
    "from matplotlib import pyplot as plt\n",
    "import losses_fn"
   ]
  },
  {
   "cell_type": "code",
   "execution_count": null,
   "metadata": {},
   "outputs": [],
   "source": [
    "print('Loower'.lower())"
   ]
  },
  {
   "cell_type": "code",
   "execution_count": null,
   "metadata": {},
   "outputs": [],
   "source": [
    "def search(pac, keyword):\n",
    "    for i in dir(pac):\n",
    "        if keyword in i.lower():\n",
    "            print(i)"
   ]
  },
  {
   "cell_type": "code",
   "execution_count": null,
   "metadata": {},
   "outputs": [],
   "source": [
    "search(tf, 'mul')"
   ]
  },
  {
   "cell_type": "markdown",
   "metadata": {},
   "source": [
    "# real data"
   ]
  },
  {
   "cell_type": "code",
   "execution_count": 2,
   "metadata": {},
   "outputs": [
    {
     "data": {
      "image/png": "[encoded data removed]",
      "text/plain": [
       "<Figure size 432x288 with 1 Axes>"
      ]
     },
     "metadata": {},
     "output_type": "display_data"
    }
   ],
   "source": [
    "with tf.Graph().as_default():\n",
    "    with tf.Session() as sess:\n",
    "        random_noise = tf.random_uniform([100, 1])\n",
    "        random_noise = (random_noise - 0.5)*2\n",
    "        \n",
    "        a_y = tf.constant([[1, 1]], tf.float32) #signal direction\n",
    "        real_data = tf.multiply(a_y, random_noise)\n",
    "        real_data = sess.run(real_data)\n",
    "        fig = plt.figure()\n",
    "        ax1 = fig.add_subplot(111)\n",
    "        ax1.scatter(real_data[:, 0], real_data[:, 1])\n",
    "        plt.show()"
   ]
  },
  {
   "cell_type": "code",
   "execution_count": 10,
   "metadata": {},
   "outputs": [],
   "source": [
    "leaky_relu = lambda net: tf.nn.leaky_relu(net, alpha=0.01)\n",
    "def generator(input_noise):\n",
    "    gen_data = layers.fully_connected(input_noise, 2, activation_fn=None)\n",
    "    return gen_data\n",
    "\n",
    "def discriminator(data):\n",
    "    logits = layers.fully_connected(data, 1, activation_fn=None)\n",
    "    D_prob = tf.nn.sigmoid(logits)\n",
    "    return D_prob"
   ]
  },
  {
   "cell_type": "code",
   "execution_count": 13,
   "metadata": {},
   "outputs": [
    {
     "name": "stdout",
     "output_type": "stream",
     "text": [
      "(1000, 2)\n"
     ]
    },
    {
     "data": {
      "image/png": "[encoded data removed]",
      "text/plain": [
       "<Figure size 432x288 with 1 Axes>"
      ]
     },
     "metadata": {},
     "output_type": "display_data"
    },
    {
     "name": "stdout",
     "output_type": "stream",
     "text": [
      "dis_weight [[-0.03604996]\n",
      " [-0.6453714 ]]\n",
      "dis_bias [0.11059932]\n",
      "[-0.23011135]\n",
      "gen_weight [[0.2980162  0.03014506]]\n",
      "gen_bias [-0.28255355 -0.19402467]\n"
     ]
    }
   ],
   "source": [
    "with tf.Graph().as_default():\n",
    "    random_noise = tf.random_uniform([1000, 1])\n",
    "    random_noise = (random_noise - 0.5)*2\n",
    "        \n",
    "    a_y = tf.constant([[1, 1]], tf.float32) #signal direction\n",
    "    real_data = tf.multiply(a_y, random_noise)\n",
    "    print(real_data.shape) # real_dataset\n",
    "        \n",
    "    with variable_scope.variable_scope('generator') as gen_scope:\n",
    "        gen_data = generator(random_noise)\n",
    "        \n",
    "    with variable_scope.variable_scope('discriminator') as dis_scope:\n",
    "        logits_real = discriminator(real_data)\n",
    "    with variable_scope.variable_scope('discriminator', reuse=True):\n",
    "        logits_gen = discriminator(gen_data)\n",
    "        \n",
    "    dis_var = tf.get_collection(tf.GraphKeys.TRAINABLE_VARIABLES, scope=dis_scope.name)\n",
    "    gen_var = tf.get_collection(tf.GraphKeys.TRAINABLE_VARIABLES, scope=gen_scope.name)\n",
    "        \n",
    "    D_loss = -tf.reduce_mean(tf.log(logits_real) + tf.log(1. - logits_gen))\n",
    "    G_loss = -tf.reduce_mean(tf.log(logits_gen))\n",
    "        \n",
    "    D_solver = tf.train.AdamOptimizer().minimize(D_loss, var_list=dis_var)\n",
    "    G_solver = tf.train.AdamOptimizer().minimize(G_loss, var_list=gen_var)\n",
    "    \n",
    "    initializer = tf.global_variables_initializer()\n",
    "    with tf.Session() as sess:\n",
    "        sess.run(initializer)\n",
    "        \n",
    "        for i in range(1000):\n",
    "            sess.run(D_solver)\n",
    "            sess.run(G_solver)\n",
    "            \n",
    "        test_real = sess.run(real_data)\n",
    "        test_gen = sess.run(gen_data)\n",
    "        \n",
    "        fig = plt.figure()\n",
    "        ax1 = fig.add_subplot(111)\n",
    "        ax1.scatter(test_gen[:, 0], test_gen[:, 1], c='b')\n",
    "        ax1.scatter(test_real[:, 0], test_real[:, 1], c='r')\n",
    "        plt.show()\n",
    "        with variable_scope.variable_scope('discriminator', reuse=True):\n",
    "            weight1 = tf.get_variable('fully_connected/weights')\n",
    "            bias2 = tf.get_variable('fully_connected/biases')\n",
    "            w = sess.run(weight1)\n",
    "            b = sess.run(bias2)\n",
    "            print('dis_weight', w)\n",
    "            print('dis_bias', b)\n",
    "            print(w[0]*0.5 + w[1]*0.5 + b)\n",
    "            \n",
    "        with variable_scope.variable_scope('generator', reuse=True):\n",
    "            weight = tf.get_variable('fully_connected/weights')\n",
    "            bias = tf.get_variable('fully_connected/biases')\n",
    "            print('gen_weight', sess.run(weight))\n",
    "            print('gen_bias', sess.run(bias))"
   ]
  },
  {
   "cell_type": "code",
   "execution_count": 18,
   "metadata": {},
   "outputs": [
    {
     "name": "stdout",
     "output_type": "stream",
     "text": [
      "(1000, 2)\n",
      "gen_weight [[0.41636634 0.08942521]] \n",
      "\n",
      "gen_bias [0. 0.] \n",
      "\n",
      "gen_weight [[0.41636634 0.08942521]] \n",
      "\n",
      "gen_bias [0. 0.] \n",
      "\n",
      "gen_weight [[0.41636634 0.08942521]] \n",
      "\n",
      "gen_bias [0. 0.] \n",
      "\n",
      "gen_weight [[0.41636634 0.08942521]] \n",
      "\n",
      "gen_bias [0. 0.] \n",
      "\n",
      "gen_weight [[0.41636634 0.08942521]] \n",
      "\n",
      "gen_bias [0. 0.] \n",
      "\n",
      "[[0.00685455]\n",
      " [1.930921  ]\n",
      " [0.        ]\n",
      " [0.787097  ]\n",
      " [0.8178372 ]\n",
      " [0.        ]\n",
      " [0.        ]\n",
      " [2.1531227 ]\n",
      " [0.        ]\n",
      " [0.        ]]\n",
      "[[0.41918355]\n",
      " [0.13234968]\n",
      " [0.        ]\n",
      " [0.10516336]\n",
      " [0.03743601]\n",
      " [0.35609955]\n",
      " [0.        ]\n",
      " [0.14944415]\n",
      " [0.5306126 ]\n",
      " [0.4333098 ]]\n"
     ]
    }
   ],
   "source": [
    "with tf.Graph().as_default():\n",
    "    random_noise = tf.random_uniform([1000, 1])\n",
    "    random_noise = (random_noise - 0.5)*2\n",
    "        \n",
    "    a_y = tf.constant([[1, 1]], tf.float32) #signal direction\n",
    "    real_data = tf.multiply(a_y, random_noise)\n",
    "    print(real_data.shape) # real_dataset\n",
    "        \n",
    "    with variable_scope.variable_scope('generator') as gen_scope:\n",
    "        gen_data = generator(random_noise)\n",
    "        \n",
    "    with variable_scope.variable_scope('discriminator') as dis_scope:\n",
    "        logits_real = discriminator(real_data)\n",
    "    with variable_scope.variable_scope('discriminator', reuse=True):\n",
    "        logits_gen = discriminator(gen_data)\n",
    "        \n",
    "    dis_var = tf.get_collection(tf.GraphKeys.TRAINABLE_VARIABLES, scope=dis_scope.name)\n",
    "    gen_var = tf.get_collection(tf.GraphKeys.TRAINABLE_VARIABLES, scope=gen_scope.name)\n",
    "        \n",
    "    D_loss = -tf.reduce_mean(tf.log(logits_real) + tf.log(1. - logits_gen))\n",
    "    G_loss = -tf.reduce_mean(tf.log(logits_gen))\n",
    "        \n",
    "    D_solver = tf.train.AdamOptimizer().minimize(D_loss, var_list=dis_var)\n",
    "    G_solver = tf.train.AdamOptimizer().minimize(G_loss, var_list=gen_var)\n",
    "    \n",
    "    initializer = tf.global_variables_initializer()\n",
    "    with tf.Session() as sess:\n",
    "        sess.run(initializer)\n",
    "        \n",
    "        for i in range(500):\n",
    "            if i%100 == 0:\n",
    "#                 with variable_scope.variable_scope('discriminator', reuse=True):\n",
    "#                     weight1 = tf.get_variable('fully_connected/weights')\n",
    "#                     bias2 = tf.get_variable('fully_connected/biases')\n",
    "#                     w = sess.run(weight1)\n",
    "#                     b = sess.run(bias2)\n",
    "#                     print('dis_weight', w, '\\n')\n",
    "#                     print('dis_bias', b, '\\n')\n",
    "#                     print('prob : ', sess.run(tf.nn.sigmoid(w[0]*0.5 + w[1]*0.5 + b)), '\\n') \n",
    "    \n",
    "                    \n",
    "                with variable_scope.variable_scope('generator', reuse=True):\n",
    "                    weight = tf.get_variable('fully_connected/weights')\n",
    "                    bias = tf.get_variable('fully_connected/biases')\n",
    "                    print('gen_weight', sess.run(weight), '\\n')\n",
    "                    print('gen_bias', sess.run(bias), '\\n')\n",
    "            \n",
    "            sess.run(D_solver)\n",
    "        \n",
    "#\n",
    "        \n",
    "        print(sess.run(logits_real[:10]))\n",
    "        print(sess.run(logits_gen[:10]))\n",
    "        "
   ]
  },
  {
   "cell_type": "code",
   "execution_count": null,
   "metadata": {},
   "outputs": [],
   "source": []
  }
 ],
 "metadata": {
  "kernelspec": {
   "display_name": "tf1.6p3",
   "language": "python",
   "name": "tf1.6p3"
  },
  "language_info": {
   "codemirror_mode": {
    "name": "ipython",
    "version": 3
   },
   "file_extension": ".py",
   "mimetype": "text/x-python",
   "name": "python",
   "nbconvert_exporter": "python",
   "pygments_lexer": "ipython3",
   "version": "3.5.2"
  }
 },
 "nbformat": 4,
 "nbformat_minor": 2
}
