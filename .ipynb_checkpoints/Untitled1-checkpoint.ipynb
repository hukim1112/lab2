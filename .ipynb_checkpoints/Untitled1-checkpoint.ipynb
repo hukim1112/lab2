{
 "cells": [
  {
   "cell_type": "code",
   "execution_count": 1,
   "metadata": {},
   "outputs": [],
   "source": [
    "import tensorflow as tf\n",
    "from datasets.reader import mnist as mnist_reader\n",
    "slim = tf.contrib.slim\n",
    "layers = tf.contrib.layers\n",
    "from tensorflow.python.ops import variable_scope\n",
    "import numpy as np\n",
    "from matplotlib import pyplot as plt\n",
    "import losses_fn"
   ]
  },
  {
   "cell_type": "code",
   "execution_count": 2,
   "metadata": {},
   "outputs": [
    {
     "name": "stdout",
     "output_type": "stream",
     "text": [
      "tensordot\n"
     ]
    }
   ],
   "source": [
    "for i in dir(tf):\n",
    "    if 'dot' in i:\n",
    "        print(i)"
   ]
  },
  {
   "cell_type": "code",
   "execution_count": 55,
   "metadata": {},
   "outputs": [],
   "source": [
    "dataset1 = np.random.normal(0, 1, [100, 2])\n",
    "label1 = np.ones([100, 1])\n",
    "dataset2 = np.random.normal(-10, 1, [100, 2])\n",
    "label2 = np.zeros([100, 1])"
   ]
  },
  {
   "cell_type": "code",
   "execution_count": 56,
   "metadata": {},
   "outputs": [
    {
     "data": {
      "text/plain": [
       "(100, 2)"
      ]
     },
     "execution_count": 56,
     "metadata": {},
     "output_type": "execute_result"
    }
   ],
   "source": [
    "dataset1.shape"
   ]
  },
  {
   "cell_type": "code",
   "execution_count": 57,
   "metadata": {},
   "outputs": [
    {
     "data": {
      "image/png": "[encoded data removed]",
      "text/plain": [
       "<Figure size 432x288 with 1 Axes>"
      ]
     },
     "metadata": {},
     "output_type": "display_data"
    }
   ],
   "source": [
    "fig = plt.figure()\n",
    "ax1 = fig.add_subplot(111)\n",
    "ax1.scatter(dataset1[:,0], dataset1[:,1])\n",
    "ax1.scatter(dataset2[:,0], dataset2[:,1])\n",
    "plt.show()"
   ]
  },
  {
   "cell_type": "code",
   "execution_count": 58,
   "metadata": {},
   "outputs": [
    {
     "name": "stdout",
     "output_type": "stream",
     "text": [
      "(200, 3)\n"
     ]
    }
   ],
   "source": [
    "dataset_total = np.concatenate((dataset1, dataset2))\n",
    "label_total = np.concatenate((label1, label2))\n",
    "\n",
    "\n",
    "dataset = np.concatenate( (dataset_total, label_total), axis = 1  )\n",
    "print(dataset.shape)"
   ]
  },
  {
   "cell_type": "code",
   "execution_count": 59,
   "metadata": {},
   "outputs": [
    {
     "data": {
      "image/png": "[encoded data removed]",
      "text/plain": [
       "<Figure size 432x288 with 1 Axes>"
      ]
     },
     "metadata": {},
     "output_type": "display_data"
    }
   ],
   "source": [
    "dataset.shape\n",
    "\n",
    "fig = plt.figure()\n",
    "ax1 = fig.add_subplot(111)\n",
    "ax1.scatter(dataset[:,0], dataset[:,1])\n",
    "plt.show()"
   ]
  },
  {
   "cell_type": "markdown",
   "metadata": {},
   "source": [
    "shuffle dataset"
   ]
  },
  {
   "cell_type": "code",
   "execution_count": 60,
   "metadata": {},
   "outputs": [
    {
     "name": "stdout",
     "output_type": "stream",
     "text": [
      "[[-10.67110711  -9.81140312   0.        ]\n",
      " [ -9.28893885 -11.38695381   0.        ]\n",
      " [ -8.79950987  -9.74423308   0.        ]\n",
      " [ -1.21602053   0.34491245   1.        ]\n",
      " [  0.03300167  -0.48081811   1.        ]\n",
      " [-11.10950688 -11.20994831   0.        ]\n",
      " [ -0.61370959   1.13848553   1.        ]\n",
      " [  0.77026837  -0.06853186   1.        ]\n",
      " [ -0.57396484  -0.66276899   1.        ]\n",
      " [  0.25333287   0.31523025   1.        ]]\n"
     ]
    }
   ],
   "source": [
    "np.random.shuffle(dataset)\n",
    "print(dataset[:10])"
   ]
  },
  {
   "cell_type": "code",
   "execution_count": 61,
   "metadata": {},
   "outputs": [],
   "source": [
    "def discriminator(data):\n",
    "    logits = layers.fully_connected(data[:,:2], 1, activation_fn=None)\n",
    "    prob = tf.nn.sigmoid(logits)\n",
    "    return logits, prob"
   ]
  },
  {
   "cell_type": "code",
   "execution_count": 84,
   "metadata": {},
   "outputs": [
    {
     "name": "stdout",
     "output_type": "stream",
     "text": [
      "0 :  4.1637897\n",
      "100 :  4.1216187\n",
      "200 :  4.0825047\n",
      "300 :  4.0461226\n",
      "400 :  4.009511\n",
      "500 :  3.869205\n",
      "600 :  1.25402\n",
      "700 :  0.4192003\n",
      "800 :  0.32478076\n",
      "900 :  0.28620622\n",
      "1000 :  0.26008365\n",
      "1100 :  0.23920073\n",
      "1200 :  0.2213833\n",
      "1300 :  0.20571586\n",
      "1400 :  0.19171429\n",
      "1500 :  0.17907768\n",
      "1600 :  0.16759677\n",
      "1700 :  0.15711486\n",
      "1800 :  0.1475083\n",
      "1900 :  0.13867605\n",
      "2000 :  0.1305337\n",
      "2100 :  0.12300951\n",
      "2200 :  0.11604166\n",
      "2300 :  0.10957642\n",
      "2400 :  0.103566855\n",
      "2500 :  0.09797146\n",
      "2600 :  0.09275361\n",
      "2700 :  0.08788074\n",
      "2800 :  0.08332376\n",
      "2900 :  0.07905671\n",
      "3000 :  0.07505616\n",
      "3100 :  0.0713012\n",
      "3200 :  0.06777279\n",
      "3300 :  0.06445381\n",
      "3400 :  0.061328687\n",
      "3500 :  0.05838333\n",
      "3600 :  0.055604883\n",
      "3700 :  0.052981615\n",
      "3800 :  0.050502833\n",
      "3900 :  0.048158754\n",
      "4000 :  0.04594042\n",
      "4100 :  0.043839578\n",
      "4200 :  0.04184867\n",
      "4300 :  0.039960716\n",
      "4400 :  0.038169276\n",
      "4500 :  0.036468424\n",
      "4600 :  0.03485268\n",
      "4700 :  0.033316966\n",
      "4800 :  0.031856593\n",
      "4900 :  0.030467145\n",
      "5000 :  0.02914458\n",
      "5100 :  0.027885107\n",
      "5200 :  0.026685247\n",
      "5300 :  0.025541661\n",
      "5400 :  0.024451325\n",
      "5500 :  0.023411358\n",
      "5600 :  0.022419086\n",
      "5700 :  0.021472013\n",
      "5800 :  0.020567773\n",
      "5900 :  0.019704161\n",
      "6000 :  0.018879121\n",
      "6100 :  0.018090706\n",
      "6200 :  0.017337065\n",
      "6300 :  0.016616512\n",
      "6400 :  0.015927402\n",
      "6500 :  0.015268214\n",
      "6600 :  0.014637509\n",
      "6700 :  0.014033918\n",
      "6800 :  0.013456167\n",
      "6900 :  0.012903031\n",
      "7000 :  0.012373358\n",
      "7100 :  0.011866059\n",
      "7200 :  0.011380144\n",
      "7300 :  0.010914559\n",
      "7400 :  0.01046845\n",
      "7500 :  0.010040915\n",
      "7600 :  0.009631105\n",
      "7700 :  0.009238229\n",
      "7800 :  0.008861557\n",
      "7900 :  0.008500376\n",
      "8000 :  0.008153989\n",
      "8100 :  0.007821764\n",
      "8200 :  0.007503063\n",
      "8300 :  0.0071972827\n",
      "8400 :  0.0069039585\n",
      "8500 :  0.0066224798\n",
      "8600 :  0.006352312\n",
      "8700 :  0.006093102\n",
      "8800 :  0.0058442187\n",
      "8900 :  0.0056053884\n",
      "9000 :  0.0053760763\n",
      "9100 :  0.0051558767\n",
      "dis_weight [[0.6454121]\n",
      " [0.6128903]]\n",
      "dis_bias [5.0460987]\n"
     ]
    }
   ],
   "source": [
    "with tf.Graph().as_default():\n",
    "    real_data = tf.constant(dataset[:, :2], tf.float32)\n",
    "    label = tf.constant(dataset[:, 2], tf.float32)\n",
    "    label = tf.reshape(label, [-1, 1])\n",
    "    with variable_scope.variable_scope('discriminator') as dis_scope:\n",
    "        logits, prob = discriminator(real_data)    \n",
    "    \n",
    "    x = tf.multiply(label,tf.log(prob))\n",
    "    y = tf.multiply( 1-label, tf.log(1. - prob + 0.0006) )\n",
    "    z = -(x+y)\n",
    "    D_loss = tf.reduce_mean(z)\n",
    "    \n",
    "    dis_var = tf.get_collection(tf.GraphKeys.TRAINABLE_VARIABLES, scope=dis_scope.name)\n",
    "    D_solver = tf.train.AdamOptimizer().minimize(D_loss, var_list=dis_var)\n",
    "    initializer = tf.global_variables_initializer()\n",
    "    with tf.Session() as sess:\n",
    "        sess.run(initializer)\n",
    "\n",
    "        for i in range(50000):\n",
    "            loss, _ = sess.run([D_loss, D_solver])\n",
    "            if i % 100 == 0:\n",
    "                print(i, ': ', loss)\n",
    "            if loss < 0.005:\n",
    "                break\n",
    "        \n",
    "        with variable_scope.variable_scope('discriminator', reuse=True):\n",
    "            weight1 = tf.get_variable('fully_connected/weights')\n",
    "            bias2 = tf.get_variable('fully_connected/biases')\n",
    "            w = sess.run(weight1)\n",
    "            b = sess.run(bias2)\n",
    "            print('dis_weight', w)\n",
    "            print('dis_bias', b)\n",
    "            \n",
    "            # w[0]*x1 + w[1]*x2 + b = 0\n",
    "            # p1 = (0, -b/w[1])\n",
    "            # p2 = (-b/w[0], 0)\n",
    "            \n",
    "            p1 = (0, -b/w[1])\n",
    "            p2 = (-b/w[0], 0)"
   ]
  },
  {
   "cell_type": "code",
   "execution_count": 85,
   "metadata": {},
   "outputs": [
    {
     "data": {
      "image/png": "[encoded data removed]",
      "text/plain": [
       "<Figure size 432x288 with 1 Axes>"
      ]
     },
     "metadata": {},
     "output_type": "display_data"
    }
   ],
   "source": [
    "fig = plt.figure()\n",
    "ax1 = fig.add_subplot(111)\n",
    "ax1.scatter(dataset1[:,0], dataset1[:,1])\n",
    "ax1.scatter(dataset2[:,0], dataset2[:,1])\n",
    "\n",
    "coefficients = np.polyfit([p1[0], p2[0]], [p1[1], p2[1]], 1) \n",
    "polynomial = np.poly1d(coefficients)\n",
    "x_axis = np.linspace(-10, 10)\n",
    "y_axis = polynomial(x_axis)\n",
    "\n",
    "ax1.plot(x_axis, y_axis)\n",
    "\n",
    "plt.show()\n"
   ]
  },
  {
   "cell_type": "code",
   "execution_count": null,
   "metadata": {},
   "outputs": [],
   "source": []
  },
  {
   "cell_type": "code",
   "execution_count": 79,
   "metadata": {},
   "outputs": [
    {
     "name": "stdout",
     "output_type": "stream",
     "text": [
      "(100, 2)\n",
      "(100, 2)\n"
     ]
    },
    {
     "data": {
      "image/png": "[encoded data removed]",
      "text/plain": [
       "<Figure size 432x288 with 1 Axes>"
      ]
     },
     "metadata": {},
     "output_type": "display_data"
    }
   ],
   "source": [
    "with tf.Graph().as_default():\n",
    "    with tf.Session() as sess:\n",
    "        random_noise = tf.random_uniform([100, 1])\n",
    "        random_noise = (random_noise - 0.5)*2\n",
    "        \n",
    "        a_y = tf.constant([[1, 1]], tf.float32) #signal direction\n",
    "        a_z = tf.constant([[2, 1]], tf.float32)\n",
    "        \n",
    "        data1 = tf.multiply(a_y, random_noise)\n",
    "        data2 = tf.multiply(a_z, random_noise) + -2.0\n",
    "        \n",
    "        print(data1.shape)\n",
    "        print(data2.shape)\n",
    "        \n",
    "        data1 = sess.run(data1)\n",
    "        data2 = sess.run(data2)\n",
    "        fig = plt.figure()\n",
    "        ax1 = fig.add_subplot(111)\n",
    "        ax1.scatter(data1[:, 0], data1[:, 1], color='b')\n",
    "        ax1.scatter(data2[:, 0], data2[:, 1], color='r')\n",
    "        plt.show()"
   ]
  },
  {
   "cell_type": "code",
   "execution_count": null,
   "metadata": {},
   "outputs": [],
   "source": []
  },
  {
   "cell_type": "code",
   "execution_count": null,
   "metadata": {},
   "outputs": [],
   "source": []
  },
  {
   "cell_type": "code",
   "execution_count": null,
   "metadata": {},
   "outputs": [],
   "source": [
    "    \n",
    "    \n",
    "#     initializer = tf.global_variables_initializer()\n",
    "#     with tf.Session() as sess:\n",
    "#         sess.run(initializer)\n",
    "        \n",
    "#         for i in range(10000):\n",
    "#             loss, _ =  sess.run([D_loss, D_solver])\n",
    "#             print(i, \" : \", loss)\n",
    "#         print(tf.get_collection(tf.GraphKeys.TRAINABLE_VARIABLES))\n",
    "\n",
    "#         with variable_scope.variable_scope('discriminator', reuse=True):\n",
    "#             weight = tf.get_variable('fully_connected/weights')\n",
    "#             bias = tf.get_variable('fully_connected/biases')\n",
    "#             w = sess.run(weight)\n",
    "#             b = sess.run(bias)\n",
    "#             print(w, b)\n",
    "            \n",
    "#     tf.reshape(real_data[:,2], (None, 1))\n",
    "#     print(tf.constant(np.zeros([200,1])))\n",
    "    \n",
    "#     result = real_data[:, 2]*tf.constant(np.ones([200, 1]))\n",
    "    \n",
    "#     with tf.Session() as sess:\n",
    "#         print(sess.run(result).shape)"
   ]
  },
  {
   "cell_type": "code",
   "execution_count": null,
   "metadata": {},
   "outputs": [],
   "source": []
  },
  {
   "cell_type": "code",
   "execution_count": null,
   "metadata": {},
   "outputs": [],
   "source": []
  },
  {
   "cell_type": "code",
   "execution_count": null,
   "metadata": {},
   "outputs": [],
   "source": [
    "with tf.Graph().as_default():\n",
    "    real_data = tf.constant(dataset)\n",
    "    \n",
    "    print(real_data.shape)\n",
    "\n",
    "    with variable_scope.variable_scope('discriminator') as dis_scope:\n",
    "        logits_real = discriminator(real_data)\n",
    "    \n",
    "    print(logits_real.shape)\n",
    "\n",
    "#     dis_var = tf.get_collection(tf.GraphKeys.TRAINABLE_VARIABLES, scope=dis_scope.name)\n",
    "        \n",
    "#     D_loss = -tf.reduce_mean(real_data[:,2]*tf.log(logits_real) + real_data[:,2]*tf.log(1. - logits_gen))\n",
    "#     D_solver = tf.train.AdamOptimizer().minimize(D_loss, var_list=dis_var)\n",
    "\n",
    "    \n",
    "#     initializer = tf.global_variables_initializer()\n",
    "#     with tf.Session() as sess:\n",
    "#         sess.run(initializer)\n",
    "        \n",
    "#         for i in range(1000):\n",
    "#             sess.run(D_solver)\n",
    "#             sess.run(G_solver)\n",
    "            \n",
    "#         test_real = sess.run(real_data)\n",
    "#         test_gen = sess.run(gen_data)\n",
    "        \n",
    "#         fig = plt.figure()\n",
    "#         ax1 = fig.add_subplot(111)\n",
    "#         ax1.scatter(test_gen[:, 0], test_gen[:, 1], c='b')\n",
    "#         ax1.scatter(test_real[:, 0], test_real[:, 1], c='r')\n",
    "#         plt.show()\n",
    "#         with variable_scope.variable_scope('discriminator', reuse=True):\n",
    "#             weight1 = tf.get_variable('fully_connected/weights')\n",
    "#             bias2 = tf.get_variable('fully_connected/biases')\n",
    "#             w = sess.run(weight1)\n",
    "#             b = sess.run(bias2)\n",
    "#             print('dis_weight', w)\n",
    "#             print('dis_bias', b)\n",
    "#             print(w[0]*0.5 + w[1]*0.5 + b)\n",
    "            \n",
    "#         with variable_scope.variable_scope('generator', reuse=True):\n",
    "#             weight = tf.get_variable('fully_connected/weights')\n",
    "#             bias = tf.get_variable('fully_connected/biases')\n",
    "#             print('gen_weight', sess.run(weight))\n",
    "#             print('gen_bias', sess.run(bias))"
   ]
  },
  {
   "cell_type": "code",
   "execution_count": null,
   "metadata": {},
   "outputs": [],
   "source": []
  },
  {
   "cell_type": "code",
   "execution_count": null,
   "metadata": {},
   "outputs": [],
   "source": []
  }
 ],
 "metadata": {
  "kernelspec": {
   "display_name": "tf1.6p3",
   "language": "python",
   "name": "tf1.6p3"
  },
  "language_info": {
   "codemirror_mode": {
    "name": "ipython",
    "version": 3
   },
   "file_extension": ".py",
   "mimetype": "text/x-python",
   "name": "python",
   "nbconvert_exporter": "python",
   "pygments_lexer": "ipython3",
   "version": "3.5.2"
  }
 },
 "nbformat": 4,
 "nbformat_minor": 2
}
