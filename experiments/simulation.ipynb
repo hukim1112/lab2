{
 "cells": [
  {
   "cell_type": "code",
   "execution_count": 10,
   "metadata": {},
   "outputs": [],
   "source": [
    "import tensorflow as tf\n",
    "from datasets.reader import mnist as mnist_reader\n",
    "slim = tf.contrib.slim\n",
    "layers = tf.contrib.layers\n",
    "from tensorflow.python.ops import variable_scope\n",
    "import numpy as np\n",
    "from matplotlib import pyplot as plt"
   ]
  },
  {
   "cell_type": "markdown",
   "metadata": {},
   "source": [
    "# real data"
   ]
  },
  {
   "cell_type": "code",
   "execution_count": 11,
   "metadata": {},
   "outputs": [
    {
     "data": {
      "image/png": "[encoded data removed]",
      "text/plain": [
       "<Figure size 432x288 with 1 Axes>"
      ]
     },
     "metadata": {},
     "output_type": "display_data"
    }
   ],
   "source": [
    "with tf.Graph().as_default():\n",
    "    with tf.Session() as sess:\n",
    "        random_noise = tf.random_uniform([100, 1])\n",
    "        random_noise = (random_noise - 0.5)*2\n",
    "        \n",
    "        a_y = tf.constant([[1, 1]], tf.float32) #signal direction\n",
    "        real_data = tf.multiply(a_y, random_noise)\n",
    "        real_data = sess.run(real_data)\n",
    "        fig = plt.figure()\n",
    "        ax1 = fig.add_subplot(111)\n",
    "        ax1.scatter(real_data[:, 0], real_data[:, 1])\n",
    "        plt.show()"
   ]
  },
  {
   "cell_type": "code",
   "execution_count": 12,
   "metadata": {},
   "outputs": [],
   "source": [
    "leaky_relu = lambda net: tf.nn.leaky_relu(net, alpha=0.01)\n",
    "def generator(input_noise):\n",
    "    gen_data = layers.fully_connected(input_noise, 2, activation_fn=None)\n",
    "    return gen_data\n",
    "\n",
    "def discriminator(data):\n",
    "    logits = layers.fully_connected(data, 1, activation_fn=None)\n",
    "    D_prob = tf.nn.sigmoid(logits)\n",
    "    return D_prob"
   ]
  },
  {
   "cell_type": "code",
   "execution_count": 28,
   "metadata": {},
   "outputs": [
    {
     "name": "stdout",
     "output_type": "stream",
     "text": [
      "(1000, 2)\n"
     ]
    },
    {
     "data": {
      "image/png": "[encoded data removed]",
      "text/plain": [
       "<Figure size 432x288 with 1 Axes>"
      ]
     },
     "metadata": {},
     "output_type": "display_data"
    },
    {
     "name": "stdout",
     "output_type": "stream",
     "text": [
      "[[0.01994127]\n",
      " [0.03443532]] [-0.00210154]\n",
      "0.48092172 0.5179228\n",
      "0.49897262 0.5021544\n"
     ]
    },
    {
     "data": {
      "image/png": "[encoded data removed]",
      "text/plain": [
       "<Figure size 432x288 with 1 Axes>"
      ]
     },
     "metadata": {},
     "output_type": "display_data"
    },
    {
     "name": "stdout",
     "output_type": "stream",
     "text": [
      "[[ 0.02220839]\n",
      " [-0.08384997]] [0.00472724]\n",
      "0.49134192 0.51102525\n",
      "0.4982542 0.49906656\n"
     ]
    },
    {
     "data": {
      "image/png": "[encoded data removed]",
      "text/plain": [
       "<Figure size 432x288 with 1 Axes>"
      ]
     },
     "metadata": {},
     "output_type": "display_data"
    },
    {
     "name": "stdout",
     "output_type": "stream",
     "text": [
      "[[ 0.02668963]\n",
      " [-0.07274453]] [-0.00415293]\n",
      "0.4941236 0.50379753\n",
      "0.5003459 0.50170386\n"
     ]
    },
    {
     "data": {
      "image/png": "[encoded data removed]",
      "text/plain": [
       "<Figure size 432x288 with 1 Axes>"
      ]
     },
     "metadata": {},
     "output_type": "display_data"
    }
   ],
   "source": [
    "with tf.Graph().as_default():\n",
    "    random_noise = tf.random_uniform([1000, 1])\n",
    "    random_noise = (random_noise - 0.5)*2\n",
    "        \n",
    "    a_y = tf.constant([[2, 1]], tf.float32) #signal direction\n",
    "    real_data = tf.multiply(a_y, random_noise)\n",
    "    print(real_data.shape) # real_dataset\n",
    "        \n",
    "    with variable_scope.variable_scope('generator') as gen_scope:\n",
    "        gen_data = generator(random_noise)\n",
    "        \n",
    "    with variable_scope.variable_scope('discriminator') as dis_scope:\n",
    "        logits_real = discriminator(real_data)\n",
    "    with variable_scope.variable_scope('discriminator', reuse=True):\n",
    "        logits_gen = discriminator(gen_data)\n",
    "        \n",
    "    dis_var = tf.get_collection(tf.GraphKeys.TRAINABLE_VARIABLES, scope=dis_scope.name)\n",
    "    gen_var = tf.get_collection(tf.GraphKeys.TRAINABLE_VARIABLES, scope=gen_scope.name)\n",
    "        \n",
    "    epsilon = 0.0006\n",
    "    D_loss = -tf.reduce_mean(tf.log(logits_real + epsilon) + tf.log(1. - logits_gen + epsilon))\n",
    "    G_loss = -tf.reduce_mean(tf.log(logits_gen + epsilon))\n",
    "        \n",
    "    D_solver = tf.train.AdamOptimizer().minimize(D_loss, var_list=dis_var)\n",
    "    G_solver = tf.train.AdamOptimizer().minimize(G_loss, var_list=gen_var)\n",
    "    \n",
    "    initializer = tf.global_variables_initializer()\n",
    "    with tf.Session() as sess:\n",
    "        sess.run(initializer)\n",
    "        test_real = sess.run(real_data)\n",
    "        test_gen = sess.run(gen_data)\n",
    "        \n",
    "        fig = plt.figure()\n",
    "        ax1 = fig.add_subplot(221)\n",
    "        ax1.scatter(test_real[:, 0], test_real[:, 1], c='r')\n",
    "        ax1.scatter(test_gen[:, 0], test_gen[:, 1], c='b')\n",
    "        \n",
    "        for i in range(30001):\n",
    "            sess.run(D_solver)\n",
    "            sess.run(G_solver)\n",
    "        \n",
    "            if i == 10000:\n",
    "                test_real = sess.run(real_data)\n",
    "                test_gen = sess.run(gen_data)\n",
    "\n",
    "\n",
    "                with variable_scope.variable_scope('discriminator', reuse=True):\n",
    "                    weight1 = tf.get_variable('fully_connected/weights')\n",
    "                    bias2 = tf.get_variable('fully_connected/biases')\n",
    "                    w = sess.run(weight1)\n",
    "                    b = sess.run(bias2)\n",
    "                    print(w, b)\n",
    "                    p1 = (0, -b/w[1])\n",
    "                    p2 = (-b/w[0], 0)        \n",
    "\n",
    "\n",
    "                fig = plt.figure()\n",
    "                ax1 = fig.add_subplot(222)\n",
    "                ax1.scatter(test_real[:, 0], test_real[:, 1], c='r')\n",
    "                ax1.scatter(test_gen[:, 0], test_gen[:, 1], c='b')\n",
    "                ax1.plot(np.array([0]), np.array([0]), c=(1,0,1))\n",
    "                coefficients = np.polyfit([p1[0], p2[0]], [p1[1], p2[1]], 1) \n",
    "                polynomial = np.poly1d(coefficients)\n",
    "                x_axis = np.linspace(-2, 2)\n",
    "                y_axis = polynomial(x_axis)\n",
    "                ax1.plot(x_axis, y_axis, c='g')\n",
    "                ax1.scatter(np.array([0]), np.array([0]), c=(0,0,0), s=25)\n",
    "                print(sess.run(logits_real).min(), sess.run(logits_real).max())\n",
    "                print(sess.run(logits_gen).min(), sess.run(logits_gen).max())\n",
    "            if i == 20000:\n",
    "                test_real = sess.run(real_data)\n",
    "                test_gen = sess.run(gen_data)\n",
    "\n",
    "\n",
    "                with variable_scope.variable_scope('discriminator', reuse=True):\n",
    "                    weight1 = tf.get_variable('fully_connected/weights')\n",
    "                    bias2 = tf.get_variable('fully_connected/biases')\n",
    "                    w = sess.run(weight1)\n",
    "                    b = sess.run(bias2)\n",
    "                    print(w, b)\n",
    "                    p1 = (0, -b/w[1])\n",
    "                    p2 = (-b/w[0], 0)        \n",
    "\n",
    "\n",
    "                fig = plt.figure()\n",
    "                ax1 = fig.add_subplot(223)\n",
    "                ax1.scatter(test_real[:, 0], test_real[:, 1], c='r')\n",
    "                ax1.scatter(test_gen[:, 0], test_gen[:, 1], c='b')\n",
    "                coefficients = np.polyfit([p1[0], p2[0]], [p1[1], p2[1]], 1) \n",
    "                polynomial = np.poly1d(coefficients)\n",
    "                x_axis = np.linspace(-2, 2)\n",
    "                y_axis = polynomial(x_axis)\n",
    "                ax1.plot(x_axis, y_axis, c='g')\n",
    "                \n",
    "                ax1.scatter(np.array([0]), np.array([0]), c=(0,0,0), s=25)\n",
    "                print(sess.run(logits_real).min(), sess.run(logits_real).max())\n",
    "                print(sess.run(logits_gen).min(), sess.run(logits_gen).max())          \n",
    "            if i == 30000:\n",
    "                test_real = sess.run(real_data)\n",
    "                test_gen = sess.run(gen_data)\n",
    "\n",
    "\n",
    "                with variable_scope.variable_scope('discriminator', reuse=True):\n",
    "                    weight1 = tf.get_variable('fully_connected/weights')\n",
    "                    bias2 = tf.get_variable('fully_connected/biases')\n",
    "                    w = sess.run(weight1)\n",
    "                    b = sess.run(bias2)\n",
    "                    print(w, b)\n",
    "                    p1 = (0, -b/w[1])\n",
    "                    p2 = (-b/w[0], 0)        \n",
    "\n",
    "\n",
    "                fig = plt.figure()\n",
    "                ax1 = fig.add_subplot(224)\n",
    "                ax1.scatter(test_real[:, 0], test_real[:, 1], c='r')\n",
    "                ax1.scatter(test_gen[:, 0], test_gen[:, 1], c='b')\n",
    "                ax1.plot(np.array([0]), np.array([0]), c=(1,0,1))\n",
    "                coefficients = np.polyfit([p1[0], p2[0]], [p1[1], p2[1]], 1) \n",
    "                polynomial = np.poly1d(coefficients)\n",
    "                x_axis = np.linspace(-2, 2)\n",
    "                y_axis = polynomial(x_axis)\n",
    "                ax1.plot(x_axis, y_axis, c='g')\n",
    "                ax1.scatter(np.array([0]), np.array([0]), c=(0,0,0), s=25)\n",
    "                print(sess.run(logits_real).min(), sess.run(logits_real).max())\n",
    "                print(sess.run(logits_gen).min(), sess.run(logits_gen).max())\n",
    "            plt.show()"
   ]
  },
  {
   "cell_type": "code",
   "execution_count": null,
   "metadata": {},
   "outputs": [],
   "source": [
    "with tf.Graph().as_default():\n",
    "    random_noise = tf.random_uniform([1000, 1])\n",
    "    random_noise = (random_noise - 0.5)*2\n",
    "        \n",
    "    a_y = tf.constant([[1, 1]], tf.float32) #signal direction\n",
    "    real_data = tf.multiply(a_y, random_noise)\n",
    "    print(real_data.shape) # real_dataset\n",
    "        \n",
    "    with variable_scope.variable_scope('generator') as gen_scope:\n",
    "        gen_data = generator(random_noise) - tf.constant([[0, 1]], tf.float32)\n",
    "        \n",
    "    with variable_scope.variable_scope('discriminator') as dis_scope:\n",
    "        logits_real = discriminator(real_data)\n",
    "    with variable_scope.variable_scope('discriminator', reuse=True):\n",
    "        logits_gen = discriminator(gen_data)\n",
    "        \n",
    "    dis_var = tf.get_collection(tf.GraphKeys.TRAINABLE_VARIABLES, scope=dis_scope.name)\n",
    "    gen_var = tf.get_collection(tf.GraphKeys.TRAINABLE_VARIABLES, scope=gen_scope.name)\n",
    "    \n",
    "    epsilon = 0.0006\n",
    "    D_loss = -tf.reduce_mean(tf.log(logits_real + epsilon) + tf.log(1. - logits_gen + epsilon))\n",
    "    G_loss = -tf.reduce_mean(tf.log(logits_gen + epsilon))\n",
    "        \n",
    "    D_solver = tf.train.AdamOptimizer(learning_rate = 0.01).minimize(D_loss, var_list=dis_var)\n",
    "    G_solver = tf.train.AdamOptimizer().minimize(G_loss, var_list=gen_var)\n",
    "    \n",
    "    initializer = tf.global_variables_initializer()\n",
    "    with tf.Session() as sess:\n",
    "        sess.run(initializer)\n",
    "        \n",
    "        for i in range(50000):\n",
    "                            \n",
    "            sess.run(D_solver)\n",
    "            sess.run(G_solver)\n",
    "        test_real = sess.run(real_data)\n",
    "        test_gen = sess.run(gen_data)\n",
    "\n",
    "        with variable_scope.variable_scope('discriminator', reuse=True):\n",
    "            weight1 = tf.get_variable('fully_connected/weights')\n",
    "            bias2 = tf.get_variable('fully_connected/biases')\n",
    "            w = sess.run(weight1)\n",
    "            b = sess.run(bias2)\n",
    "            print('dis_weight', w, '\\n')\n",
    "            print('dis_bias', b, '\\n')\n",
    "            print('prob : ', sess.run(tf.nn.sigmoid(w[0]*0.5 + w[1]*0.5 + b)), '\\n') \n",
    "            p1 = (0, -b/w[1])\n",
    "            p2 = (-b/w[0], 0)        \n",
    "\n",
    "        \n",
    "        fig = plt.figure()\n",
    "        ax1 = fig.add_subplot(111)\n",
    "        ax1.scatter(test_gen[:, 0], test_gen[:, 1], c='b')\n",
    "        ax1.scatter(test_real[:, 0], test_real[:, 1], c='r')\n",
    "        coefficients = np.polyfit([p1[0], p2[0]], [p1[1], p2[1]], 1) \n",
    "        polynomial = np.poly1d(coefficients)\n",
    "        x_axis = np.linspace(-8, 3)\n",
    "        y_axis = polynomial(x_axis)\n",
    "\n",
    "        ax1.plot(x_axis, y_axis, c='g')\n",
    "        plt.show()\n",
    "                \n",
    "#\n",
    "        \n",
    "        print(sess.run(logits_real[:10]))\n",
    "        print(sess.run(logits_gen[:10]))\n",
    "        "
   ]
  },
  {
   "cell_type": "code",
   "execution_count": null,
   "metadata": {},
   "outputs": [],
   "source": []
  }
 ],
 "metadata": {
  "kernelspec": {
   "display_name": "tf1.6p3",
   "language": "python",
   "name": "tf1.6p3"
  },
  "language_info": {
   "codemirror_mode": {
    "name": "ipython",
    "version": 3
   },
   "file_extension": ".py",
   "mimetype": "text/x-python",
   "name": "python",
   "nbconvert_exporter": "python",
   "pygments_lexer": "ipython3",
   "version": "3.5.2"
  }
 },
 "nbformat": 4,
 "nbformat_minor": 2
}
