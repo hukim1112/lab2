{
 "cells": [
  {
   "cell_type": "code",
   "execution_count": 3,
   "metadata": {},
   "outputs": [],
   "source": [
    "import tensorflow as tf\n",
    "from datasets.reader import mnist as mnist_reader\n",
    "slim = tf.contrib.slim"
   ]
  },
  {
   "cell_type": "code",
   "execution_count": 4,
   "metadata": {},
   "outputs": [],
   "source": [
    "def load_batch(dataset_path, dataset_name, split_name, batch_size=128):\n",
    "\n",
    "    #1. Data pipeline\n",
    "    dataset = mnist_reader.get_split(split_name, dataset_path)\n",
    "    print(dataset_name)\n",
    "    print(split_name)\n",
    "    data_provider = slim.dataset_data_provider.DatasetDataProvider(\n",
    "                    dataset, common_queue_capacity=4*batch_size, common_queue_min=batch_size)    \n",
    "    [image, label] = data_provider.get(['image', 'label'])\n",
    "    image = (tf.to_float(image) - 128.0) / 128.0 # convert 0~255 scale into -1~1 scale\n",
    "    images, labels = tf.train.batch(\n",
    "              [image, label],\n",
    "              batch_size=batch_size,\n",
    "              num_threads=1,\n",
    "              capacity=2 * batch_size)\n",
    "    print('batch image size :', images.shape)\n",
    "    return dataset, images, labels"
   ]
  },
  {
   "cell_type": "code",
   "execution_count": 5,
   "metadata": {},
   "outputs": [],
   "source": [
    "path = '/home/hukim/prj/datasets/mnist'\n",
    "name = 'mnist'\n",
    "split_name = 'train'\n",
    "batch_size = 128"
   ]
  },
  {
   "cell_type": "code",
   "execution_count": 6,
   "metadata": {},
   "outputs": [
    {
     "name": "stdout",
     "output_type": "stream",
     "text": [
      "mnist\n",
      "train\n",
      "batch image size : (128, 28, 28, 1)\n"
     ]
    }
   ],
   "source": [
    "dataset, images, labels = load_batch(path, name, split_name, batch_size)"
   ]
  },
  {
   "cell_type": "code",
   "execution_count": 7,
   "metadata": {},
   "outputs": [
    {
     "name": "stdout",
     "output_type": "stream",
     "text": [
      "(128, 28, 28, 1)\n"
     ]
    }
   ],
   "source": [
    "with tf.Session() as sess:\n",
    "    with slim.queues.QueueRunners(sess):\n",
    "        np_images = sess.run(images)\n",
    "        print(np_images.shape)"
   ]
  },
  {
   "cell_type": "code",
   "execution_count": null,
   "metadata": {},
   "outputs": [],
   "source": [
    "help(tf.train.batch)"
   ]
  },
  {
   "cell_type": "code",
   "execution_count": 8,
   "metadata": {},
   "outputs": [
    {
     "name": "stdout",
     "output_type": "stream",
     "text": [
      "Help on function QueueRunners in module tensorflow.contrib.slim.python.slim.queues:\n",
      "\n",
      "QueueRunners(session)\n",
      "    Creates a context manager that handles starting and stopping queue runners.\n",
      "    \n",
      "    Args:\n",
      "      session: the currently running session.\n",
      "    \n",
      "    Yields:\n",
      "      a context in which queues are run.\n",
      "    \n",
      "    Raises:\n",
      "      NestedQueueRunnerError: if a QueueRunners context is nested within another.\n",
      "\n"
     ]
    }
   ],
   "source": [
    "help(slim.queues.QueueRunners)"
   ]
  },
  {
   "cell_type": "code",
   "execution_count": null,
   "metadata": {},
   "outputs": [],
   "source": []
  }
 ],
 "metadata": {
  "kernelspec": {
   "display_name": "tf1.4p3",
   "language": "python",
   "name": "tf1.4p3"
  },
  "language_info": {
   "codemirror_mode": {
    "name": "ipython",
    "version": 3
   },
   "file_extension": ".py",
   "mimetype": "text/x-python",
   "name": "python",
   "nbconvert_exporter": "python",
   "pygments_lexer": "ipython3",
   "version": "3.5.2"
  }
 },
 "nbformat": 4,
 "nbformat_minor": 2
}
