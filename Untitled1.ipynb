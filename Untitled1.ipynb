{
 "cells": [
  {
   "cell_type": "code",
   "execution_count": 1,
   "metadata": {},
   "outputs": [
    {
     "name": "stderr",
     "output_type": "stream",
     "text": [
      "C:\\Users\\hyoun\\Anaconda3\\lib\\site-packages\\h5py\\__init__.py:36: FutureWarning: Conversion of the second argument of issubdtype from `float` to `np.floating` is deprecated. In future, it will be treated as `np.float64 == np.dtype(float).type`.\n",
      "  from ._conv import register_converters as _register_converters\n"
     ]
    }
   ],
   "source": [
    "import tensorflow as tf\n",
    "from datasets.reader import mnist as mnist_reader\n",
    "slim = tf.contrib.slim\n",
    "layers = tf.contrib.layers\n",
    "from tensorflow.python.ops import variable_scope\n",
    "import numpy as np\n",
    "from matplotlib import pyplot as plt\n",
    "import losses_fn"
   ]
  },
  {
   "cell_type": "code",
   "execution_count": 2,
   "metadata": {},
   "outputs": [
    {
     "name": "stdout",
     "output_type": "stream",
     "text": [
      "tensordot\n"
     ]
    }
   ],
   "source": [
    "for i in dir(tf):\n",
    "    if 'dot' in i:\n",
    "        print(i)"
   ]
  },
  {
   "cell_type": "code",
   "execution_count": 3,
   "metadata": {},
   "outputs": [],
   "source": [
    "dataset1 = np.random.normal(0, 1, [100, 2])\n",
    "label1 = np.ones([100, 1])\n",
    "dataset2 = np.random.normal(-10, 1, [100, 2])\n",
    "label2 = np.zeros([100, 1])"
   ]
  },
  {
   "cell_type": "code",
   "execution_count": 4,
   "metadata": {},
   "outputs": [
    {
     "data": {
      "text/plain": [
       "(100, 2)"
      ]
     },
     "execution_count": 4,
     "metadata": {},
     "output_type": "execute_result"
    }
   ],
   "source": [
    "dataset1.shape"
   ]
  },
  {
   "cell_type": "code",
   "execution_count": 5,
   "metadata": {},
   "outputs": [
    {
     "data": {
      "image/png": "[encoded data removed]",
      "text/plain": [
       "<Figure size 432x288 with 1 Axes>"
      ]
     },
     "metadata": {},
     "output_type": "display_data"
    }
   ],
   "source": [
    "fig = plt.figure()\n",
    "ax1 = fig.add_subplot(111)\n",
    "ax1.scatter(dataset1[:,0], dataset1[:,1])\n",
    "ax1.scatter(dataset2[:,0], dataset2[:,1])\n",
    "plt.show()"
   ]
  },
  {
   "cell_type": "code",
   "execution_count": 6,
   "metadata": {},
   "outputs": [
    {
     "name": "stdout",
     "output_type": "stream",
     "text": [
      "(200, 3)\n"
     ]
    }
   ],
   "source": [
    "dataset_total = np.concatenate((dataset1, dataset2))\n",
    "label_total = np.concatenate((label1, label2))\n",
    "\n",
    "\n",
    "dataset = np.concatenate( (dataset_total, label_total), axis = 1  )\n",
    "print(dataset.shape)"
   ]
  },
  {
   "cell_type": "code",
   "execution_count": 7,
   "metadata": {},
   "outputs": [
    {
     "data": {
      "image/png": "[encoded data removed]",
      "text/plain": [
       "<Figure size 432x288 with 1 Axes>"
      ]
     },
     "metadata": {},
     "output_type": "display_data"
    }
   ],
   "source": [
    "dataset.shape\n",
    "\n",
    "fig = plt.figure()\n",
    "ax1 = fig.add_subplot(111)\n",
    "ax1.scatter(dataset[:,0], dataset[:,1])\n",
    "plt.show()"
   ]
  },
  {
   "cell_type": "markdown",
   "metadata": {},
   "source": [
    "shuffle dataset"
   ]
  },
  {
   "cell_type": "code",
   "execution_count": 8,
   "metadata": {},
   "outputs": [
    {
     "name": "stdout",
     "output_type": "stream",
     "text": [
      "[[  0.78675506   0.18705177   1.        ]\n",
      " [  0.5026023    2.35269733   1.        ]\n",
      " [  0.78153465  -0.96451724   1.        ]\n",
      " [  1.41924809  -0.44598258   1.        ]\n",
      " [ -8.4344994   -9.4376037    0.        ]\n",
      " [-10.90290993  -8.66871789   0.        ]\n",
      " [  0.66392682  -0.85590826   1.        ]\n",
      " [ -0.68496313  -0.03631001   1.        ]\n",
      " [  0.91566076  -0.2093037    1.        ]\n",
      " [ -0.67346238  -0.18523857   1.        ]]\n"
     ]
    }
   ],
   "source": [
    "np.random.shuffle(dataset)\n",
    "print(dataset[:10])"
   ]
  },
  {
   "cell_type": "code",
   "execution_count": null,
   "metadata": {},
   "outputs": [],
   "source": []
  },
  {
   "cell_type": "markdown",
   "metadata": {},
   "source": [
    "# Data Creation"
   ]
  },
  {
   "cell_type": "code",
   "execution_count": 12,
   "metadata": {},
   "outputs": [
    {
     "name": "stdout",
     "output_type": "stream",
     "text": [
      "(100, 2)\n",
      "[[171.34393217  63.12973877]\n",
      " [179.41537691  71.59298307]\n",
      " [171.02957205  67.80442481]\n",
      " [177.49760475  66.22049541]\n",
      " [181.81744748  80.30919885]]\n"
     ]
    }
   ],
   "source": [
    "adult_height = np.random.normal(175, 5, [100, 1])\n",
    "adult_weight = np.random.normal(70, 5, [100, 1])\n",
    "\n",
    "adult_dataset = np.concatenate( (adult_height, adult_weight) , axis = 1)\n",
    "\n",
    "print(adult_dataset.shape)\n",
    "print(adult_dataset[:5])"
   ]
  },
  {
   "cell_type": "code",
   "execution_count": 13,
   "metadata": {},
   "outputs": [
    {
     "name": "stdout",
     "output_type": "stream",
     "text": [
      "(100, 2)\n",
      "[[124.55906182  27.94875456]\n",
      " [130.50626708  24.09059603]\n",
      " [127.51096087  31.38537416]\n",
      " [108.70375946  30.33771849]\n",
      " [116.06058769  38.06391468]]\n"
     ]
    }
   ],
   "source": [
    "child_height = np.random.normal(120, 5, [100, 1])\n",
    "child_weight = np.random.normal(30, 5, [100, 1])\n",
    "\n",
    "child_dataset = np.concatenate( (child_height, child_weight) , axis = 1)\n",
    "\n",
    "print(child_dataset.shape)\n",
    "print(child_dataset[:5])"
   ]
  },
  {
   "cell_type": "code",
   "execution_count": 14,
   "metadata": {},
   "outputs": [
    {
     "data": {
      "image/png": "[encoded data removed]",
      "text/plain": [
       "<Figure size 432x288 with 1 Axes>"
      ]
     },
     "metadata": {},
     "output_type": "display_data"
    }
   ],
   "source": [
    "fig = plt.figure()\n",
    "ax1 = fig.add_subplot(111)\n",
    "ax1.scatter(adult_dataset[:,0], adult_dataset[:,1])\n",
    "ax1.scatter(child_dataset[:,0], child_dataset[:,1])\n",
    "plt.show()"
   ]
  },
  {
   "cell_type": "markdown",
   "metadata": {},
   "source": [
    "# Label"
   ]
  },
  {
   "cell_type": "code",
   "execution_count": 15,
   "metadata": {},
   "outputs": [
    {
     "name": "stdout",
     "output_type": "stream",
     "text": [
      "label의 shape (200, 1)\n",
      "[[1.]\n",
      " [1.]\n",
      " [1.]\n",
      " [1.]\n",
      " [1.]\n",
      " [1.]\n",
      " [1.]\n",
      " [1.]\n",
      " [1.]\n",
      " [1.]]\n"
     ]
    }
   ],
   "source": [
    "adult_label = np.ones( shape=[100, 1] )\n",
    "child_label = np.zeros( shape=[100, 1] )\n",
    "label = np.concatenate( (adult_label, child_label) )\n",
    "print('label의 shape' , label.shape)\n",
    "print(label[:10])"
   ]
  },
  {
   "cell_type": "markdown",
   "metadata": {},
   "source": [
    "# Data + Label"
   ]
  },
  {
   "cell_type": "code",
   "execution_count": 16,
   "metadata": {},
   "outputs": [
    {
     "name": "stdout",
     "output_type": "stream",
     "text": [
      "[[121.58835794  34.57542138   0.        ]\n",
      " [115.82259567  27.6893271    0.        ]\n",
      " [127.4468153   25.53917618   0.        ]\n",
      " [179.11351392  69.83019011   1.        ]\n",
      " [175.53384357  65.13916983   1.        ]\n",
      " [169.52308621  74.19607317   1.        ]\n",
      " [174.1881164   71.41420342   1.        ]\n",
      " [169.7327584   71.80635623   1.        ]\n",
      " [123.20316596  27.5028136    0.        ]\n",
      " [173.72117691  73.13561749   1.        ]]\n",
      "(200, 3)\n"
     ]
    }
   ],
   "source": [
    "total_dataset = np.concatenate((adult_dataset , child_dataset))\n",
    "total_dataset = np.concatenate( (total_dataset, label), axis = 1  )\n",
    "\n",
    "np.random.shuffle(total_dataset) # Shuffle dataset\n",
    "print(total_dataset[:10])\n",
    "print(total_dataset.shape)"
   ]
  },
  {
   "cell_type": "code",
   "execution_count": 17,
   "metadata": {},
   "outputs": [
    {
     "data": {
      "image/png": "[encoded data removed]",
      "text/plain": [
       "<Figure size 432x288 with 1 Axes>"
      ]
     },
     "metadata": {},
     "output_type": "display_data"
    }
   ],
   "source": [
    "total_dataset.shape\n",
    "\n",
    "fig = plt.figure()\n",
    "ax1 = fig.add_subplot(111)\n",
    "ax1.scatter(total_dataset[:,0], total_dataset[:,1])\n",
    "plt.show()"
   ]
  },
  {
   "cell_type": "code",
   "execution_count": 35,
   "metadata": {},
   "outputs": [
    {
     "data": {
      "text/plain": [
       "array([[  0.78675506,   0.18705177,   1.        ],\n",
       "       [  0.5026023 ,   2.35269733,   1.        ],\n",
       "       [  0.78153465,  -0.96451724,   1.        ],\n",
       "       [  1.41924809,  -0.44598258,   1.        ],\n",
       "       [ -8.4344994 ,  -9.4376037 ,   0.        ],\n",
       "       [-10.90290993,  -8.66871789,   0.        ],\n",
       "       [  0.66392682,  -0.85590826,   1.        ],\n",
       "       [ -0.68496313,  -0.03631001,   1.        ],\n",
       "       [  0.91566076,  -0.2093037 ,   1.        ],\n",
       "       [ -0.67346238,  -0.18523857,   1.        ]])"
      ]
     },
     "execution_count": 35,
     "metadata": {},
     "output_type": "execute_result"
    }
   ],
   "source": [
    "dataset[:10]"
   ]
  },
  {
   "cell_type": "code",
   "execution_count": 36,
   "metadata": {},
   "outputs": [
    {
     "data": {
      "text/plain": [
       "array([[121.58835794,  34.57542138,   0.        ],\n",
       "       [115.82259567,  27.6893271 ,   0.        ],\n",
       "       [127.4468153 ,  25.53917618,   0.        ],\n",
       "       [179.11351392,  69.83019011,   1.        ],\n",
       "       [175.53384357,  65.13916983,   1.        ],\n",
       "       [169.52308621,  74.19607317,   1.        ],\n",
       "       [174.1881164 ,  71.41420342,   1.        ],\n",
       "       [169.7327584 ,  71.80635623,   1.        ],\n",
       "       [123.20316596,  27.5028136 ,   0.        ],\n",
       "       [173.72117691,  73.13561749,   1.        ]])"
      ]
     },
     "execution_count": 36,
     "metadata": {},
     "output_type": "execute_result"
    }
   ],
   "source": [
    "total_dataset[:10]"
   ]
  },
  {
   "cell_type": "code",
   "execution_count": 9,
   "metadata": {},
   "outputs": [],
   "source": [
    "def discriminator(data):\n",
    "    logits = layers.fully_connected(data[:,:2], 1, activation_fn=None)\n",
    "    prob = tf.nn.sigmoid(logits)\n",
    "    return logits, prob"
   ]
  },
  {
   "cell_type": "code",
   "execution_count": 45,
   "metadata": {},
   "outputs": [
    {
     "name": "stdout",
     "output_type": "stream",
     "text": [
      "0 :  0.43596\n",
      "100 :  0.3975728\n",
      "200 :  0.36234745\n",
      "300 :  0.33037475\n",
      "400 :  0.30163994\n",
      "500 :  0.27604175\n",
      "600 :  0.25339442\n",
      "700 :  0.23344153\n",
      "800 :  0.21587992\n",
      "900 :  0.2003891\n",
      "1000 :  0.18665789\n",
      "1100 :  0.1744043\n",
      "1200 :  0.16338593\n",
      "1300 :  0.15340295\n",
      "1400 :  0.14429468\n",
      "1500 :  0.1359344\n",
      "1600 :  0.12822232\n",
      "1700 :  0.121079616\n",
      "1800 :  0.114443175\n",
      "1900 :  0.108261816\n",
      "2000 :  0.10249263\n",
      "2100 :  0.097099274\n",
      "2200 :  0.092050254\n",
      "2300 :  0.08731791\n",
      "2400 :  0.08287758\n",
      "2500 :  0.07870711\n",
      "2600 :  0.074786425\n",
      "2700 :  0.071097285\n",
      "2800 :  0.067623146\n",
      "2900 :  0.06434877\n",
      "3000 :  0.061260257\n",
      "3100 :  0.058344793\n",
      "3200 :  0.0555907\n",
      "3300 :  0.052987188\n",
      "3400 :  0.050524354\n",
      "3500 :  0.048193045\n",
      "3600 :  0.045984793\n",
      "3700 :  0.043891832\n",
      "3800 :  0.041906957\n",
      "3900 :  0.04002352\n",
      "4000 :  0.03823533\n",
      "4100 :  0.03653668\n",
      "4200 :  0.03492227\n",
      "4300 :  0.03338717\n",
      "4400 :  0.03192679\n",
      "4500 :  0.030536871\n",
      "4600 :  0.029213443\n",
      "4700 :  0.027952796\n",
      "4800 :  0.026751468\n",
      "4900 :  0.025606243\n",
      "dis_weight [[0.50442904]\n",
      " [0.4640423 ]]\n",
      "dis_bias [3.2336328]\n"
     ]
    }
   ],
   "source": [
    "with tf.Graph().as_default():\n",
    "    real_data = tf.constant(dataset[:, :2], tf.float32)\n",
    "    label = tf.constant(dataset[:, 2], tf.float32)\n",
    "    label = tf.reshape(label, [-1, 1])\n",
    "    with variable_scope.variable_scope('discriminator') as dis_scope:\n",
    "        logits, prob = discriminator(real_data)    \n",
    "    \n",
    "    x = tf.multiply(label,tf.log(prob))\n",
    "    y = tf.multiply( 1-label, tf.log(1. - prob + 0.0006) )\n",
    "    \n",
    "    _x = tf.Print(x, [x])\n",
    "    _y = tf.Print(y, [y])\n",
    "    \n",
    "    \n",
    "    z = -(_x+_y)\n",
    "    D_loss = tf.reduce_mean(z)\n",
    "    \n",
    "    dis_var = tf.get_collection(tf.GraphKeys.TRAINABLE_VARIABLES, scope=dis_scope.name)\n",
    "    D_solver = tf.train.AdamOptimizer().minimize(D_loss, var_list=dis_var)\n",
    "    initializer = tf.global_variables_initializer()\n",
    "    with tf.Session() as sess:\n",
    "        sess.run(initializer)\n",
    "\n",
    "        for i in range(5000):\n",
    "            loss, _ = sess.run([D_loss, D_solver])\n",
    "            if i % 100 == 0:\n",
    "                print(i, ': ', loss)\n",
    "            if loss < 0.005:\n",
    "                break\n",
    "        \n",
    "        with variable_scope.variable_scope('discriminator', reuse=True):\n",
    "            weight1 = tf.get_variable('fully_connected/weights')\n",
    "            bias2 = tf.get_variable('fully_connected/biases')\n",
    "            w = sess.run(weight1)\n",
    "            b = sess.run(bias2)\n",
    "            print('dis_weight', w)\n",
    "            print('dis_bias', b)\n",
    "            \n",
    "            # w[0]*x1 + w[1]*x2 + b = 0\n",
    "            # p1 = (0, -b/w[1])\n",
    "            # p2 = (-b/w[0], 0)\n",
    "            \n",
    "            p1 = (0, -b/w[1])\n",
    "            p2 = (-b/w[0], 0)"
   ]
  },
  {
   "cell_type": "code",
   "execution_count": 46,
   "metadata": {},
   "outputs": [
    {
     "data": {
      "image/png": "[encoded data removed]",
      "text/plain": [
       "<Figure size 432x288 with 1 Axes>"
      ]
     },
     "metadata": {},
     "output_type": "display_data"
    }
   ],
   "source": [
    "fig = plt.figure()\n",
    "ax1 = fig.add_subplot(111)\n",
    "ax1.scatter(dataset1[:,0], dataset1[:,1])\n",
    "ax1.scatter(dataset2[:,0], dataset2[:,1])\n",
    "\n",
    "coefficients = np.polyfit([p1[0], p2[0]], [p1[1], p2[1]], 1) \n",
    "polynomial = np.poly1d(coefficients)\n",
    "x_axis = np.linspace(-10, 10)\n",
    "y_axis = polynomial(x_axis)\n",
    "\n",
    "ax1.plot(x_axis, y_axis)\n",
    "\n",
    "plt.show()\n"
   ]
  },
  {
   "cell_type": "code",
   "execution_count": null,
   "metadata": {},
   "outputs": [],
   "source": []
  },
  {
   "cell_type": "code",
   "execution_count": 79,
   "metadata": {},
   "outputs": [
    {
     "name": "stdout",
     "output_type": "stream",
     "text": [
      "(100, 2)\n",
      "(100, 2)\n"
     ]
    },
    {
     "data": {
      "image/png": "[encoded data removed]",
      "text/plain": [
       "<Figure size 432x288 with 1 Axes>"
      ]
     },
     "metadata": {},
     "output_type": "display_data"
    }
   ],
   "source": [
    "with tf.Graph().as_default():\n",
    "    with tf.Session() as sess:\n",
    "        random_noise = tf.random_uniform([100, 1])\n",
    "        random_noise = (random_noise - 0.5)*2\n",
    "        \n",
    "        a_y = tf.constant([[1, 1]], tf.float32) #signal direction\n",
    "        a_z = tf.constant([[2, 1]], tf.float32)\n",
    "        \n",
    "        data1 = tf.multiply(a_y, random_noise)\n",
    "        data2 = tf.multiply(a_z, random_noise) + -2.0\n",
    "        \n",
    "        print(data1.shape)\n",
    "        print(data2.shape)\n",
    "        \n",
    "        data1 = sess.run(data1)\n",
    "        data2 = sess.run(data2)\n",
    "        fig = plt.figure()\n",
    "        ax1 = fig.add_subplot(111)\n",
    "        ax1.scatter(data1[:, 0], data1[:, 1], color='b')\n",
    "        ax1.scatter(data2[:, 0], data2[:, 1], color='r')\n",
    "        plt.show()"
   ]
  },
  {
   "cell_type": "code",
   "execution_count": null,
   "metadata": {},
   "outputs": [],
   "source": []
  },
  {
   "cell_type": "code",
   "execution_count": null,
   "metadata": {},
   "outputs": [],
   "source": []
  },
  {
   "cell_type": "code",
   "execution_count": null,
   "metadata": {},
   "outputs": [],
   "source": [
    "    \n",
    "    \n",
    "#     initializer = tf.global_variables_initializer()\n",
    "#     with tf.Session() as sess:\n",
    "#         sess.run(initializer)\n",
    "        \n",
    "#         for i in range(10000):\n",
    "#             loss, _ =  sess.run([D_loss, D_solver])\n",
    "#             print(i, \" : \", loss)\n",
    "#         print(tf.get_collection(tf.GraphKeys.TRAINABLE_VARIABLES))\n",
    "\n",
    "#         with variable_scope.variable_scope('discriminator', reuse=True):\n",
    "#             weight = tf.get_variable('fully_connected/weights')\n",
    "#             bias = tf.get_variable('fully_connected/biases')\n",
    "#             w = sess.run(weight)\n",
    "#             b = sess.run(bias)\n",
    "#             print(w, b)\n",
    "            \n",
    "#     tf.reshape(real_data[:,2], (None, 1))\n",
    "#     print(tf.constant(np.zeros([200,1])))\n",
    "    \n",
    "#     result = real_data[:, 2]*tf.constant(np.ones([200, 1]))\n",
    "    \n",
    "#     with tf.Session() as sess:\n",
    "#         print(sess.run(result).shape)"
   ]
  },
  {
   "cell_type": "code",
   "execution_count": null,
   "metadata": {},
   "outputs": [],
   "source": []
  },
  {
   "cell_type": "code",
   "execution_count": null,
   "metadata": {},
   "outputs": [],
   "source": []
  },
  {
   "cell_type": "code",
   "execution_count": null,
   "metadata": {},
   "outputs": [],
   "source": [
    "with tf.Graph().as_default():\n",
    "    real_data = tf.constant(dataset)\n",
    "    \n",
    "    print(real_data.shape)\n",
    "\n",
    "    with variable_scope.variable_scope('discriminator') as dis_scope:\n",
    "        logits_real = discriminator(real_data)\n",
    "    \n",
    "    print(logits_real.shape)\n",
    "\n",
    "#     dis_var = tf.get_collection(tf.GraphKeys.TRAINABLE_VARIABLES, scope=dis_scope.name)\n",
    "        \n",
    "#     D_loss = -tf.reduce_mean(real_data[:,2]*tf.log(logits_real) + real_data[:,2]*tf.log(1. - logits_gen))\n",
    "#     D_solver = tf.train.AdamOptimizer().minimize(D_loss, var_list=dis_var)\n",
    "\n",
    "    \n",
    "#     initializer = tf.global_variables_initializer()\n",
    "#     with tf.Session() as sess:\n",
    "#         sess.run(initializer)\n",
    "        \n",
    "#         for i in range(1000):\n",
    "#             sess.run(D_solver)\n",
    "#             sess.run(G_solver)\n",
    "            \n",
    "#         test_real = sess.run(real_data)\n",
    "#         test_gen = sess.run(gen_data)\n",
    "        \n",
    "#         fig = plt.figure()\n",
    "#         ax1 = fig.add_subplot(111)\n",
    "#         ax1.scatter(test_gen[:, 0], test_gen[:, 1], c='b')\n",
    "#         ax1.scatter(test_real[:, 0], test_real[:, 1], c='r')\n",
    "#         plt.show()\n",
    "#         with variable_scope.variable_scope('discriminator', reuse=True):\n",
    "#             weight1 = tf.get_variable('fully_connected/weights')\n",
    "#             bias2 = tf.get_variable('fully_connected/biases')\n",
    "#             w = sess.run(weight1)\n",
    "#             b = sess.run(bias2)\n",
    "#             print('dis_weight', w)\n",
    "#             print('dis_bias', b)\n",
    "#             print(w[0]*0.5 + w[1]*0.5 + b)\n",
    "            \n",
    "#         with variable_scope.variable_scope('generator', reuse=True):\n",
    "#             weight = tf.get_variable('fully_connected/weights')\n",
    "#             bias = tf.get_variable('fully_connected/biases')\n",
    "#             print('gen_weight', sess.run(weight))\n",
    "#             print('gen_bias', sess.run(bias))"
   ]
  },
  {
   "cell_type": "code",
   "execution_count": null,
   "metadata": {},
   "outputs": [],
   "source": []
  },
  {
   "cell_type": "code",
   "execution_count": null,
   "metadata": {},
   "outputs": [],
   "source": []
  }
 ],
 "metadata": {
  "kernelspec": {
   "display_name": "Python 3",
   "language": "python",
   "name": "python3"
  },
  "language_info": {
   "codemirror_mode": {
    "name": "ipython",
    "version": 3
   },
   "file_extension": ".py",
   "mimetype": "text/x-python",
   "name": "python",
   "nbconvert_exporter": "python",
   "pygments_lexer": "ipython3",
   "version": "3.6.5"
  }
 },
 "nbformat": 4,
 "nbformat_minor": 2
}
